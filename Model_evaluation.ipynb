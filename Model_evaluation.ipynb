{
 "cells": [
  {
   "cell_type": "code",
   "execution_count": 171,
   "id": "fbf7354a",
   "metadata": {},
   "outputs": [],
   "source": [
    "from math import sqrt\n",
    "from scipy import stats\n",
    "import matplotlib.pyplot as plt\n",
    "import numpy as np\n",
    "import pandas as pd\n",
    "import seaborn as sns\n",
    "from pydataset import data\n",
    "from sklearn.model_selection import train_test_split\n",
    "from sklearn.impute import SimpleImputer\n",
    "from sklearn.metrics import accuracy_score,precision_score,recall_score,classification_report\n",
    "import prepare\n",
    "from env import user,host,password\n",
    "import acquire\n",
    "import explore\n",
    "import os\n",
    "import warnings\n",
    "warnings.filterwarnings(\"ignore\")"
   ]
  },
  {
   "cell_type": "markdown",
   "id": "547b1a84",
   "metadata": {},
   "source": [
    "#### Given the following confusion matrix, evaluate (by hand) the model's performance."
   ]
  },
  {
   "cell_type": "markdown",
   "id": "cc510106",
   "metadata": {},
   "source": [
    "|               | pred dog   | pred cat   |\n",
    "|:------------  |-----------:|-----------:|\n",
    "| actual dog    |         46 |         7  |\n",
    "| actual cat    |         13 |         34 |"
   ]
  },
  {
   "cell_type": "markdown",
   "id": "0de528cd",
   "metadata": {},
   "source": [
    "- accuracy: .80\n",
    "- recall: ~.78\n",
    "- precision: ~.87"
   ]
  },
  {
   "cell_type": "markdown",
   "id": "6e34a671",
   "metadata": {},
   "source": [
    "##### In the context of this problem, what is a false positive?"
   ]
  },
  {
   "cell_type": "code",
   "execution_count": 172,
   "id": "9b8a6f57",
   "metadata": {},
   "outputs": [],
   "source": [
    "# the model predicted cat but it was actually a dog"
   ]
  },
  {
   "cell_type": "markdown",
   "id": "9ac26f78",
   "metadata": {},
   "source": [
    "##### In the context of this problem, what is a false negative?"
   ]
  },
  {
   "cell_type": "code",
   "execution_count": 173,
   "id": "5d917c2b",
   "metadata": {},
   "outputs": [],
   "source": [
    "# the model predicted dog but it was actually a cat"
   ]
  },
  {
   "cell_type": "markdown",
   "id": "2861a0a9",
   "metadata": {},
   "source": [
    "##### How would you describe this model?"
   ]
  },
  {
   "cell_type": "code",
   "execution_count": 174,
   "id": "09fe5fe8",
   "metadata": {},
   "outputs": [],
   "source": [
    "# Classification model,This model is a somewhat effective since both the true positive and true negative values are high"
   ]
  },
  {
   "cell_type": "markdown",
   "id": "9d7b7c62",
   "metadata": {},
   "source": [
    "#### You are working as a datascientist working for Codeup Cody Creator (C3 for short), a rubber-duck manufacturing plant.\n",
    "\n",
    "#### Unfortunately, some of the rubber ducks that are produced will have defects. Your team has built several models that try to predict those defects, and the data from their predictions can be found here."
   ]
  },
  {
   "cell_type": "markdown",
   "id": "627cb626",
   "metadata": {},
   "source": [
    "#### Use the predictions dataset and pandas to help answer the following questions:"
   ]
  },
  {
   "cell_type": "code",
   "execution_count": 175,
   "id": "bc7977ac",
   "metadata": {},
   "outputs": [],
   "source": [
    "df_duck = pd.read_csv(\"/Users/jaredvahle/CodeUp-Datascience/classification-exercises/c3.csv\")"
   ]
  },
  {
   "cell_type": "code",
   "execution_count": 176,
   "id": "e95aef3f",
   "metadata": {},
   "outputs": [
    {
     "data": {
      "text/html": [
       "<div>\n",
       "<style scoped>\n",
       "    .dataframe tbody tr th:only-of-type {\n",
       "        vertical-align: middle;\n",
       "    }\n",
       "\n",
       "    .dataframe tbody tr th {\n",
       "        vertical-align: top;\n",
       "    }\n",
       "\n",
       "    .dataframe thead th {\n",
       "        text-align: right;\n",
       "    }\n",
       "</style>\n",
       "<table border=\"1\" class=\"dataframe\">\n",
       "  <thead>\n",
       "    <tr style=\"text-align: right;\">\n",
       "      <th></th>\n",
       "      <th>actual</th>\n",
       "      <th>model1</th>\n",
       "      <th>model2</th>\n",
       "      <th>model3</th>\n",
       "    </tr>\n",
       "  </thead>\n",
       "  <tbody>\n",
       "    <tr>\n",
       "      <th>0</th>\n",
       "      <td>No Defect</td>\n",
       "      <td>No Defect</td>\n",
       "      <td>Defect</td>\n",
       "      <td>No Defect</td>\n",
       "    </tr>\n",
       "    <tr>\n",
       "      <th>1</th>\n",
       "      <td>No Defect</td>\n",
       "      <td>No Defect</td>\n",
       "      <td>Defect</td>\n",
       "      <td>Defect</td>\n",
       "    </tr>\n",
       "    <tr>\n",
       "      <th>2</th>\n",
       "      <td>No Defect</td>\n",
       "      <td>No Defect</td>\n",
       "      <td>Defect</td>\n",
       "      <td>No Defect</td>\n",
       "    </tr>\n",
       "    <tr>\n",
       "      <th>3</th>\n",
       "      <td>No Defect</td>\n",
       "      <td>Defect</td>\n",
       "      <td>Defect</td>\n",
       "      <td>Defect</td>\n",
       "    </tr>\n",
       "    <tr>\n",
       "      <th>4</th>\n",
       "      <td>No Defect</td>\n",
       "      <td>No Defect</td>\n",
       "      <td>Defect</td>\n",
       "      <td>No Defect</td>\n",
       "    </tr>\n",
       "  </tbody>\n",
       "</table>\n",
       "</div>"
      ],
      "text/plain": [
       "      actual     model1  model2     model3\n",
       "0  No Defect  No Defect  Defect  No Defect\n",
       "1  No Defect  No Defect  Defect     Defect\n",
       "2  No Defect  No Defect  Defect  No Defect\n",
       "3  No Defect     Defect  Defect     Defect\n",
       "4  No Defect  No Defect  Defect  No Defect"
      ]
     },
     "execution_count": 176,
     "metadata": {},
     "output_type": "execute_result"
    }
   ],
   "source": [
    "df_duck.head()"
   ]
  },
  {
   "cell_type": "code",
   "execution_count": 177,
   "id": "51a46e1b",
   "metadata": {},
   "outputs": [],
   "source": [
    "df_duck[\"baseline\"] = \"No Defect\""
   ]
  },
  {
   "cell_type": "code",
   "execution_count": 178,
   "id": "93ee4e56",
   "metadata": {},
   "outputs": [
    {
     "data": {
      "text/html": [
       "<div>\n",
       "<style scoped>\n",
       "    .dataframe tbody tr th:only-of-type {\n",
       "        vertical-align: middle;\n",
       "    }\n",
       "\n",
       "    .dataframe tbody tr th {\n",
       "        vertical-align: top;\n",
       "    }\n",
       "\n",
       "    .dataframe thead th {\n",
       "        text-align: right;\n",
       "    }\n",
       "</style>\n",
       "<table border=\"1\" class=\"dataframe\">\n",
       "  <thead>\n",
       "    <tr style=\"text-align: right;\">\n",
       "      <th>actual</th>\n",
       "      <th>Defect</th>\n",
       "      <th>No Defect</th>\n",
       "    </tr>\n",
       "    <tr>\n",
       "      <th>model1</th>\n",
       "      <th></th>\n",
       "      <th></th>\n",
       "    </tr>\n",
       "  </thead>\n",
       "  <tbody>\n",
       "    <tr>\n",
       "      <th>Defect</th>\n",
       "      <td>8</td>\n",
       "      <td>2</td>\n",
       "    </tr>\n",
       "    <tr>\n",
       "      <th>No Defect</th>\n",
       "      <td>8</td>\n",
       "      <td>182</td>\n",
       "    </tr>\n",
       "  </tbody>\n",
       "</table>\n",
       "</div>"
      ],
      "text/plain": [
       "actual     Defect  No Defect\n",
       "model1                      \n",
       "Defect          8          2\n",
       "No Defect       8        182"
      ]
     },
     "execution_count": 178,
     "metadata": {},
     "output_type": "execute_result"
    }
   ],
   "source": [
    "pd.crosstab(df_duck.model1,df_duck.actual)"
   ]
  },
  {
   "cell_type": "markdown",
   "id": "971de4a2",
   "metadata": {},
   "source": [
    "### An internal team wants to investigate the cause of the manufacturing defects. They tell you that they want to identify as many of the ducks that have a defect as possible. Which evaluation metric would be appropriate here? Which model would be the best fit for this use case?"
   ]
  },
  {
   "cell_type": "markdown",
   "id": "c504a593",
   "metadata": {},
   "source": [
    "#### accuracy for checking the overall model so you can see the rate of defects\n",
    "\n",
    "#### True positive = duck defect and detected | False positive = no duck defect but defect detected\n",
    "\n",
    "#### False negative = duck defect but not detected | True Negative = no duck defect and no duck detected"
   ]
  },
  {
   "cell_type": "code",
   "execution_count": 179,
   "id": "ed3b89b6",
   "metadata": {},
   "outputs": [
    {
     "data": {
      "text/plain": [
       "0.95"
      ]
     },
     "execution_count": 179,
     "metadata": {},
     "output_type": "execute_result"
    }
   ],
   "source": [
    "model_accuracy = (df_duck.actual == df_duck.model1).mean()\n",
    "model_accuracy"
   ]
  },
  {
   "cell_type": "markdown",
   "id": "36b51465",
   "metadata": {},
   "source": [
    "### Model 3 is the best fit model"
   ]
  },
  {
   "cell_type": "code",
   "execution_count": 180,
   "id": "e6a40739",
   "metadata": {},
   "outputs": [
    {
     "data": {
      "text/plain": [
       "0.56"
      ]
     },
     "execution_count": 180,
     "metadata": {},
     "output_type": "execute_result"
    }
   ],
   "source": [
    "model_accuracy = (df_duck.actual == df_duck.model2).mean()\n",
    "model_accuracy"
   ]
  },
  {
   "cell_type": "code",
   "execution_count": 181,
   "id": "dec308f8",
   "metadata": {},
   "outputs": [
    {
     "data": {
      "text/plain": [
       "0.555"
      ]
     },
     "execution_count": 181,
     "metadata": {},
     "output_type": "execute_result"
    }
   ],
   "source": [
    "model_accuracy = (df_duck.actual == df_duck.model3).mean()\n",
    "model_accuracy"
   ]
  },
  {
   "cell_type": "markdown",
   "id": "1b09470c",
   "metadata": {},
   "source": [
    "#### Recently several stories in the local news have come out highlighting customers who received a rubber duck with a defect, and portraying C3 in a bad light. The PR team has decided to launch a program that gives customers with a defective duck a vacation to Hawaii. They need you to predict which ducks will have defects, but tell you the really don't want to accidentally give out a vacation package when the duck really doesn't have a defect. Which evaluation metric would be appropriate here? Which model would be the best fit for this use case?"
   ]
  },
  {
   "cell_type": "markdown",
   "id": "49aae835",
   "metadata": {},
   "source": [
    "### RECALL"
   ]
  },
  {
   "cell_type": "code",
   "execution_count": 182,
   "id": "5b1e39cc",
   "metadata": {},
   "outputs": [
    {
     "data": {
      "text/plain": [
       "0.5"
      ]
     },
     "execution_count": 182,
     "metadata": {},
     "output_type": "execute_result"
    }
   ],
   "source": [
    "subset = df_duck[df_duck.actual == \"Defect\"]\n",
    "baseline_recall = (subset.actual == subset.model1).mean()\n",
    "baseline_recall"
   ]
  },
  {
   "cell_type": "code",
   "execution_count": 183,
   "id": "e04d121b",
   "metadata": {},
   "outputs": [
    {
     "data": {
      "text/plain": [
       "0.5"
      ]
     },
     "execution_count": 183,
     "metadata": {},
     "output_type": "execute_result"
    }
   ],
   "source": [
    "baseline_recall = (subset.actual == subset.model1).mean()\n",
    "baseline_recall"
   ]
  },
  {
   "cell_type": "code",
   "execution_count": 184,
   "id": "5e2e0e55",
   "metadata": {},
   "outputs": [
    {
     "data": {
      "text/plain": [
       "0.5625"
      ]
     },
     "execution_count": 184,
     "metadata": {},
     "output_type": "execute_result"
    }
   ],
   "source": [
    "model_accuracy = (subset.actual == subset.model2).mean()\n",
    "model_accuracy"
   ]
  },
  {
   "cell_type": "code",
   "execution_count": 185,
   "id": "6f4f78c9",
   "metadata": {},
   "outputs": [
    {
     "data": {
      "text/plain": [
       "0.8125"
      ]
     },
     "execution_count": 185,
     "metadata": {},
     "output_type": "execute_result"
    }
   ],
   "source": [
    "model_accuracy = (subset.actual == subset.model3).mean()\n",
    "model_accuracy"
   ]
  },
  {
   "cell_type": "code",
   "execution_count": 186,
   "id": "409bed8b",
   "metadata": {},
   "outputs": [],
   "source": [
    "# model 3 is the best for this case"
   ]
  },
  {
   "cell_type": "markdown",
   "id": "2f4c5d62",
   "metadata": {},
   "source": [
    "## RECALL/SENSITIVITY"
   ]
  },
  {
   "cell_type": "code",
   "execution_count": 187,
   "id": "dcbd97bc",
   "metadata": {},
   "outputs": [
    {
     "data": {
      "text/plain": [
       "0.8"
      ]
     },
     "execution_count": 187,
     "metadata": {},
     "output_type": "execute_result"
    }
   ],
   "source": [
    "subset = df_duck[df_duck.model1 == \"Defect\"]\n",
    "baseline_recall = (subset.actual == subset.model1).mean()\n",
    "baseline_recall"
   ]
  },
  {
   "cell_type": "code",
   "execution_count": 188,
   "id": "2fed09bd",
   "metadata": {},
   "outputs": [
    {
     "data": {
      "text/plain": [
       "0.1"
      ]
     },
     "execution_count": 188,
     "metadata": {},
     "output_type": "execute_result"
    }
   ],
   "source": [
    "subset = df_duck[df_duck.model2 == \"Defect\"]\n",
    "model_accuracy = (subset.actual == subset.model2).mean()\n",
    "model_accuracy"
   ]
  },
  {
   "cell_type": "code",
   "execution_count": 189,
   "id": "6608f89f",
   "metadata": {},
   "outputs": [
    {
     "data": {
      "text/plain": [
       "0.13131313131313133"
      ]
     },
     "execution_count": 189,
     "metadata": {},
     "output_type": "execute_result"
    }
   ],
   "source": [
    "subset = df_duck[df_duck.model3 == \"Defect\"]\n",
    "model_accuracy = (subset.actual == subset.model3).mean()\n",
    "model_accuracy"
   ]
  },
  {
   "cell_type": "code",
   "execution_count": 190,
   "id": "0d003828",
   "metadata": {},
   "outputs": [],
   "source": [
    "# model 3 is best for precision if they give packages to everyone that a defect is detected"
   ]
  },
  {
   "cell_type": "markdown",
   "id": "36844a11",
   "metadata": {},
   "source": [
    "##### You are working as a data scientist for Gives You Paws ™, a subscription based service that shows you cute pictures of dogs or cats (or both for an additional fee)."
   ]
  },
  {
   "cell_type": "markdown",
   "id": "8d001689",
   "metadata": {},
   "source": [
    "##### At Gives You Paws, anyone can upload pictures of their cats or dogs. The photos are then put through a two step process. First an automated algorithm tags pictures as either a cat or a dog (Phase I). Next, the photos that have been initially identified are put through another round of review, possibly with some human oversight, before being presented to the users (Phase II)."
   ]
  },
  {
   "cell_type": "markdown",
   "id": "9d9c123b",
   "metadata": {},
   "source": [
    "#### Given this dataset, use pandas to create a baseline model (i.e. a model that just predicts the most common class) and answer the following questions:\n",
    "\n",
    "- a. In terms of accuracy, how do the various models compare to the baseline model? Are any of the models better than the baseline?\n",
    "\n",
    "- b. Suppose you are working on a team that solely deals with dog pictures. Which of these models would you recomend for Phase I? For Phase II?\n",
    "\n",
    "- c. Suppose you are working on a team that solely deals with cat pictures. Which of these models would you recomend for Phase I? For Phase II?"
   ]
  },
  {
   "cell_type": "markdown",
   "id": "8ffb4c98",
   "metadata": {},
   "source": [
    "#### True positive = dog detected actually dog | False positive = cat detected but actually a dog\n",
    "\n",
    "#### False negative = dog detected but actually cat | True Negative = cat detected and actually cat"
   ]
  },
  {
   "cell_type": "code",
   "execution_count": 191,
   "id": "11976575",
   "metadata": {},
   "outputs": [],
   "source": [
    "df = pd.read_csv(\"/Users/jaredvahle/CodeUp-Datascience/classification-exercises/gives_you_paws.csv\")"
   ]
  },
  {
   "cell_type": "code",
   "execution_count": 192,
   "id": "4a8889d6",
   "metadata": {},
   "outputs": [],
   "source": [
    "df[\"baseline\"] = \"dog\""
   ]
  },
  {
   "cell_type": "code",
   "execution_count": 193,
   "id": "da891a02",
   "metadata": {},
   "outputs": [
    {
     "data": {
      "text/html": [
       "<div>\n",
       "<style scoped>\n",
       "    .dataframe tbody tr th:only-of-type {\n",
       "        vertical-align: middle;\n",
       "    }\n",
       "\n",
       "    .dataframe tbody tr th {\n",
       "        vertical-align: top;\n",
       "    }\n",
       "\n",
       "    .dataframe thead th {\n",
       "        text-align: right;\n",
       "    }\n",
       "</style>\n",
       "<table border=\"1\" class=\"dataframe\">\n",
       "  <thead>\n",
       "    <tr style=\"text-align: right;\">\n",
       "      <th></th>\n",
       "      <th>actual</th>\n",
       "      <th>model1</th>\n",
       "      <th>model2</th>\n",
       "      <th>model3</th>\n",
       "      <th>model4</th>\n",
       "      <th>baseline</th>\n",
       "    </tr>\n",
       "  </thead>\n",
       "  <tbody>\n",
       "    <tr>\n",
       "      <th>0</th>\n",
       "      <td>cat</td>\n",
       "      <td>cat</td>\n",
       "      <td>dog</td>\n",
       "      <td>cat</td>\n",
       "      <td>dog</td>\n",
       "      <td>dog</td>\n",
       "    </tr>\n",
       "    <tr>\n",
       "      <th>1</th>\n",
       "      <td>dog</td>\n",
       "      <td>dog</td>\n",
       "      <td>cat</td>\n",
       "      <td>cat</td>\n",
       "      <td>dog</td>\n",
       "      <td>dog</td>\n",
       "    </tr>\n",
       "    <tr>\n",
       "      <th>2</th>\n",
       "      <td>dog</td>\n",
       "      <td>cat</td>\n",
       "      <td>cat</td>\n",
       "      <td>cat</td>\n",
       "      <td>dog</td>\n",
       "      <td>dog</td>\n",
       "    </tr>\n",
       "    <tr>\n",
       "      <th>3</th>\n",
       "      <td>dog</td>\n",
       "      <td>dog</td>\n",
       "      <td>dog</td>\n",
       "      <td>cat</td>\n",
       "      <td>dog</td>\n",
       "      <td>dog</td>\n",
       "    </tr>\n",
       "    <tr>\n",
       "      <th>4</th>\n",
       "      <td>cat</td>\n",
       "      <td>cat</td>\n",
       "      <td>cat</td>\n",
       "      <td>dog</td>\n",
       "      <td>dog</td>\n",
       "      <td>dog</td>\n",
       "    </tr>\n",
       "  </tbody>\n",
       "</table>\n",
       "</div>"
      ],
      "text/plain": [
       "  actual model1 model2 model3 model4 baseline\n",
       "0    cat    cat    dog    cat    dog      dog\n",
       "1    dog    dog    cat    cat    dog      dog\n",
       "2    dog    cat    cat    cat    dog      dog\n",
       "3    dog    dog    dog    cat    dog      dog\n",
       "4    cat    cat    cat    dog    dog      dog"
      ]
     },
     "execution_count": 193,
     "metadata": {},
     "output_type": "execute_result"
    }
   ],
   "source": [
    "df.head()"
   ]
  },
  {
   "cell_type": "code",
   "execution_count": 194,
   "id": "a1d9dc97",
   "metadata": {},
   "outputs": [
    {
     "data": {
      "text/plain": [
       "0.8074"
      ]
     },
     "execution_count": 194,
     "metadata": {},
     "output_type": "execute_result"
    }
   ],
   "source": [
    "model_accuracy = (df.actual == df.model1).mean()\n",
    "model_accuracy"
   ]
  },
  {
   "cell_type": "markdown",
   "id": "32d09da4",
   "metadata": {},
   "source": [
    "### Model 1 is better than baseline"
   ]
  },
  {
   "cell_type": "code",
   "execution_count": 195,
   "id": "f6b91c8b",
   "metadata": {},
   "outputs": [
    {
     "data": {
      "text/plain": [
       "0.6304"
      ]
     },
     "execution_count": 195,
     "metadata": {},
     "output_type": "execute_result"
    }
   ],
   "source": [
    "model_accuracy = (df.actual == df.model2).mean()\n",
    "model_accuracy"
   ]
  },
  {
   "cell_type": "code",
   "execution_count": 196,
   "id": "5f1cbf1b",
   "metadata": {},
   "outputs": [
    {
     "data": {
      "text/plain": [
       "0.5096"
      ]
     },
     "execution_count": 196,
     "metadata": {},
     "output_type": "execute_result"
    }
   ],
   "source": [
    "model_accuracy = (df.actual == df.model3).mean()\n",
    "model_accuracy"
   ]
  },
  {
   "cell_type": "code",
   "execution_count": 197,
   "id": "6b68b27f",
   "metadata": {},
   "outputs": [
    {
     "data": {
      "text/plain": [
       "0.7426"
      ]
     },
     "execution_count": 197,
     "metadata": {},
     "output_type": "execute_result"
    }
   ],
   "source": [
    "model_accuracy = (df.actual == df.model4).mean()\n",
    "model_accuracy"
   ]
  },
  {
   "cell_type": "markdown",
   "id": "67fed955",
   "metadata": {},
   "source": [
    "### Model 4 is better than baseline"
   ]
  },
  {
   "cell_type": "markdown",
   "id": "952c5146",
   "metadata": {},
   "source": [
    "### Baseline model"
   ]
  },
  {
   "cell_type": "code",
   "execution_count": 198,
   "id": "a6a1e93a",
   "metadata": {},
   "outputs": [
    {
     "data": {
      "text/plain": [
       "0.6508"
      ]
     },
     "execution_count": 198,
     "metadata": {},
     "output_type": "execute_result"
    }
   ],
   "source": [
    "model_accuracy = (df.actual == df.baseline).mean()\n",
    "model_accuracy"
   ]
  },
  {
   "cell_type": "markdown",
   "id": "4ff69971",
   "metadata": {},
   "source": [
    "### TEAM THAT ONLY WORKS WITH DOGS"
   ]
  },
  {
   "cell_type": "markdown",
   "id": "8dd09f16",
   "metadata": {},
   "source": [
    "### Phase 1"
   ]
  },
  {
   "cell_type": "code",
   "execution_count": 199,
   "id": "b7f8fab9",
   "metadata": {},
   "outputs": [],
   "source": [
    "subset = df[df.actual == \"dog\"]"
   ]
  },
  {
   "cell_type": "code",
   "execution_count": 200,
   "id": "cf9173af",
   "metadata": {},
   "outputs": [
    {
     "data": {
      "text/plain": [
       "0.803318992009834"
      ]
     },
     "execution_count": 200,
     "metadata": {},
     "output_type": "execute_result"
    }
   ],
   "source": [
    "model_accuracy = (subset.actual == subset.model1).mean()\n",
    "model_accuracy"
   ]
  },
  {
   "cell_type": "code",
   "execution_count": 201,
   "id": "21dd7eef",
   "metadata": {},
   "outputs": [
    {
     "data": {
      "text/plain": [
       "0.49078057775046097"
      ]
     },
     "execution_count": 201,
     "metadata": {},
     "output_type": "execute_result"
    }
   ],
   "source": [
    "model_accuracy = (subset.actual == subset.model2).mean()\n",
    "model_accuracy"
   ]
  },
  {
   "cell_type": "code",
   "execution_count": 202,
   "id": "1ca52473",
   "metadata": {},
   "outputs": [
    {
     "data": {
      "text/plain": [
       "0.5086047940995697"
      ]
     },
     "execution_count": 202,
     "metadata": {},
     "output_type": "execute_result"
    }
   ],
   "source": [
    "model_accuracy = (subset.actual == subset.model3).mean()\n",
    "model_accuracy"
   ]
  },
  {
   "cell_type": "code",
   "execution_count": 203,
   "id": "d817783b",
   "metadata": {},
   "outputs": [
    {
     "data": {
      "text/plain": [
       "0.9557467732022127"
      ]
     },
     "execution_count": 203,
     "metadata": {},
     "output_type": "execute_result"
    }
   ],
   "source": [
    "model_accuracy = (subset.actual == subset.model4).mean()\n",
    "model_accuracy"
   ]
  },
  {
   "cell_type": "code",
   "execution_count": 204,
   "id": "c9d832a5",
   "metadata": {},
   "outputs": [
    {
     "data": {
      "text/plain": [
       "1.0"
      ]
     },
     "execution_count": 204,
     "metadata": {},
     "output_type": "execute_result"
    }
   ],
   "source": [
    "model_accuracy = (subset.actual == subset.baseline).mean()\n",
    "model_accuracy"
   ]
  },
  {
   "cell_type": "markdown",
   "id": "7b72f36d",
   "metadata": {},
   "source": [
    "### Phase 2"
   ]
  },
  {
   "cell_type": "code",
   "execution_count": 205,
   "id": "598b268a",
   "metadata": {},
   "outputs": [],
   "source": [
    "subset = df[df.model4 == \"dog\"]"
   ]
  },
  {
   "cell_type": "code",
   "execution_count": 206,
   "id": "ddc371c3",
   "metadata": {},
   "outputs": [
    {
     "data": {
      "text/plain": [
       "0.6369621443686809"
      ]
     },
     "execution_count": 206,
     "metadata": {},
     "output_type": "execute_result"
    }
   ],
   "source": [
    "model_accuracy = (subset.model4 == subset.model1).mean()\n",
    "model_accuracy"
   ]
  },
  {
   "cell_type": "code",
   "execution_count": 207,
   "id": "2ecd0ab9",
   "metadata": {},
   "outputs": [
    {
     "data": {
      "text/plain": [
       "0.3891370797084411"
      ]
     },
     "execution_count": 207,
     "metadata": {},
     "output_type": "execute_result"
    }
   ],
   "source": [
    "model_accuracy = (subset.model4 == subset.model2).mean()\n",
    "model_accuracy"
   ]
  },
  {
   "cell_type": "code",
   "execution_count": 208,
   "id": "0c0dc413",
   "metadata": {},
   "outputs": [
    {
     "data": {
      "text/plain": [
       "0.5074065365624265"
      ]
     },
     "execution_count": 208,
     "metadata": {},
     "output_type": "execute_result"
    }
   ],
   "source": [
    "model_accuracy = (subset.model4 == subset.model3).mean()\n",
    "model_accuracy"
   ]
  },
  {
   "cell_type": "code",
   "execution_count": 209,
   "id": "7677fdef",
   "metadata": {},
   "outputs": [],
   "source": [
    "# of the 95% the first model gets the second model gets 63% of that 5 percent the first model missed"
   ]
  },
  {
   "cell_type": "markdown",
   "id": "f18a9ad1",
   "metadata": {},
   "source": [
    "### TEAM THAT WORKS WITH ONLY CATS"
   ]
  },
  {
   "cell_type": "markdown",
   "id": "47639d4f",
   "metadata": {},
   "source": [
    "### PHASE 1"
   ]
  },
  {
   "cell_type": "code",
   "execution_count": 210,
   "id": "2edce964",
   "metadata": {},
   "outputs": [],
   "source": [
    "subset = df[df.actual == \"cat\"]"
   ]
  },
  {
   "cell_type": "code",
   "execution_count": 211,
   "id": "a7f41136",
   "metadata": {},
   "outputs": [
    {
     "data": {
      "text/plain": [
       "0.8150057273768614"
      ]
     },
     "execution_count": 211,
     "metadata": {},
     "output_type": "execute_result"
    }
   ],
   "source": [
    "NVP_accuracy = (subset.actual == subset.model1).mean()\n",
    "NVP_accuracy"
   ]
  },
  {
   "cell_type": "code",
   "execution_count": 212,
   "id": "46eec64e",
   "metadata": {},
   "outputs": [
    {
     "data": {
      "text/plain": [
       "0.8906071019473081"
      ]
     },
     "execution_count": 212,
     "metadata": {},
     "output_type": "execute_result"
    }
   ],
   "source": [
    "NVP_accuracy = (subset.actual == subset.model2).mean()\n",
    "NVP_accuracy"
   ]
  },
  {
   "cell_type": "code",
   "execution_count": 213,
   "id": "2ee1d91e",
   "metadata": {},
   "outputs": [
    {
     "data": {
      "text/plain": [
       "0.5114547537227949"
      ]
     },
     "execution_count": 213,
     "metadata": {},
     "output_type": "execute_result"
    }
   ],
   "source": [
    "NVP_accuracy = (subset.actual == subset.model3).mean()\n",
    "NVP_accuracy"
   ]
  },
  {
   "cell_type": "code",
   "execution_count": 214,
   "id": "e05478a7",
   "metadata": {},
   "outputs": [
    {
     "data": {
      "text/plain": [
       "0.34536082474226804"
      ]
     },
     "execution_count": 214,
     "metadata": {},
     "output_type": "execute_result"
    }
   ],
   "source": [
    "NVP_accuracy = (subset.actual == subset.model4).mean()\n",
    "NVP_accuracy"
   ]
  },
  {
   "cell_type": "markdown",
   "id": "221e49b7",
   "metadata": {},
   "source": [
    "### PHASE 2"
   ]
  },
  {
   "cell_type": "code",
   "execution_count": 215,
   "id": "52321d3a",
   "metadata": {},
   "outputs": [],
   "source": [
    "subset = df[df.model2 == \"cat\"]"
   ]
  },
  {
   "cell_type": "code",
   "execution_count": 216,
   "id": "ea79c8ba",
   "metadata": {},
   "outputs": [
    {
     "data": {
      "text/plain": [
       "0.49034869240348694"
      ]
     },
     "execution_count": 216,
     "metadata": {},
     "output_type": "execute_result"
    }
   ],
   "source": [
    "NVP_accuracy = (subset.model2 == subset.model1).mean()\n",
    "NVP_accuracy"
   ]
  },
  {
   "cell_type": "code",
   "execution_count": 217,
   "id": "db497f88",
   "metadata": {},
   "outputs": [
    {
     "data": {
      "text/plain": [
       "0.5071606475716065"
      ]
     },
     "execution_count": 217,
     "metadata": {},
     "output_type": "execute_result"
    }
   ],
   "source": [
    "NVP_accuracy = (subset.model2 == subset.model3).mean()\n",
    "NVP_accuracy"
   ]
  },
  {
   "cell_type": "code",
   "execution_count": 218,
   "id": "f19b09f9",
   "metadata": {},
   "outputs": [
    {
     "data": {
      "text/plain": [
       "0.19115815691158156"
      ]
     },
     "execution_count": 218,
     "metadata": {},
     "output_type": "execute_result"
    }
   ],
   "source": [
    "NVP_accuracy = (subset.model2 == subset.model4).mean()\n",
    "NVP_accuracy"
   ]
  },
  {
   "cell_type": "code",
   "execution_count": 219,
   "id": "7538cb38",
   "metadata": {},
   "outputs": [],
   "source": [
    "# the best model for phase two is model 3,\n",
    "#of the 89% accuracy in the first model the second model works with a 50% accuracy on that 11%"
   ]
  },
  {
   "cell_type": "markdown",
   "id": "cb017591",
   "metadata": {},
   "source": [
    "### Follow the links below to read the documentation about each function, then apply those functions to the data from the previous problem."
   ]
  },
  {
   "cell_type": "code",
   "execution_count": 220,
   "id": "fe1b822a",
   "metadata": {},
   "outputs": [
    {
     "data": {
      "text/plain": [
       "0.8074"
      ]
     },
     "execution_count": 220,
     "metadata": {},
     "output_type": "execute_result"
    }
   ],
   "source": [
    "accuracy_score(df.actual,df.model1)"
   ]
  },
  {
   "cell_type": "code",
   "execution_count": 221,
   "id": "abba8edc",
   "metadata": {},
   "outputs": [
    {
     "data": {
      "text/plain": [
       "0.6304"
      ]
     },
     "execution_count": 221,
     "metadata": {},
     "output_type": "execute_result"
    }
   ],
   "source": [
    "accuracy_score(df.actual,df.model2)"
   ]
  },
  {
   "cell_type": "code",
   "execution_count": 222,
   "id": "d4215752",
   "metadata": {},
   "outputs": [
    {
     "data": {
      "text/plain": [
       "0.5096"
      ]
     },
     "execution_count": 222,
     "metadata": {},
     "output_type": "execute_result"
    }
   ],
   "source": [
    "accuracy_score(df.actual,df.model3)"
   ]
  },
  {
   "cell_type": "code",
   "execution_count": 223,
   "id": "a4b212a8",
   "metadata": {},
   "outputs": [
    {
     "data": {
      "text/plain": [
       "0.7426"
      ]
     },
     "execution_count": 223,
     "metadata": {},
     "output_type": "execute_result"
    }
   ],
   "source": [
    "accuracy_score(df.actual,df.model4)"
   ]
  },
  {
   "cell_type": "code",
   "execution_count": 224,
   "id": "6f542e7c",
   "metadata": {},
   "outputs": [
    {
     "data": {
      "text/plain": [
       "0.6508"
      ]
     },
     "execution_count": 224,
     "metadata": {},
     "output_type": "execute_result"
    }
   ],
   "source": [
    "accuracy_score(df.actual,df.baseline)"
   ]
  },
  {
   "cell_type": "code",
   "execution_count": 226,
   "id": "a2fad6a9",
   "metadata": {},
   "outputs": [
    {
     "data": {
      "text/plain": [
       "0.6897721764420747"
      ]
     },
     "execution_count": 226,
     "metadata": {},
     "output_type": "execute_result"
    }
   ],
   "source": [
    "precision_score(df.actual,df.model1, pos_label = \"cat\")"
   ]
  },
  {
   "cell_type": "code",
   "execution_count": 227,
   "id": "c0513f5f",
   "metadata": {},
   "outputs": [
    {
     "data": {
      "text/plain": [
       "0.4841220423412204"
      ]
     },
     "execution_count": 227,
     "metadata": {},
     "output_type": "execute_result"
    }
   ],
   "source": [
    "precision_score(df.actual,df.model2, pos_label = \"cat\")"
   ]
  },
  {
   "cell_type": "code",
   "execution_count": 228,
   "id": "294d0015",
   "metadata": {},
   "outputs": [
    {
     "data": {
      "text/plain": [
       "0.358346709470305"
      ]
     },
     "execution_count": 228,
     "metadata": {},
     "output_type": "execute_result"
    }
   ],
   "source": [
    "precision_score(df.actual,df.model3, pos_label = \"cat\")"
   ]
  },
  {
   "cell_type": "code",
   "execution_count": 229,
   "id": "18e86aed",
   "metadata": {},
   "outputs": [
    {
     "data": {
      "text/plain": [
       "0.8072289156626506"
      ]
     },
     "execution_count": 229,
     "metadata": {},
     "output_type": "execute_result"
    }
   ],
   "source": [
    "precision_score(df.actual,df.model4, pos_label = \"cat\")"
   ]
  },
  {
   "cell_type": "code",
   "execution_count": 230,
   "id": "359ae562",
   "metadata": {},
   "outputs": [
    {
     "data": {
      "text/plain": [
       "0.0"
      ]
     },
     "execution_count": 230,
     "metadata": {},
     "output_type": "execute_result"
    }
   ],
   "source": [
    "precision_score(df.actual,df.baseline, pos_label = \"cat\")"
   ]
  },
  {
   "cell_type": "code",
   "execution_count": 237,
   "id": "b2038761",
   "metadata": {},
   "outputs": [
    {
     "data": {
      "text/plain": [
       "'              precision    recall  f1-score   support\\n\\n         cat       0.69      0.82      0.75      1746\\n         dog       0.89      0.80      0.84      3254\\n\\n    accuracy                           0.81      5000\\n   macro avg       0.79      0.81      0.80      5000\\nweighted avg       0.82      0.81      0.81      5000\\n'"
      ]
     },
     "execution_count": 237,
     "metadata": {},
     "output_type": "execute_result"
    }
   ],
   "source": [
    "classification_report(df.actual,df.model1)"
   ]
  },
  {
   "cell_type": "code",
   "execution_count": 238,
   "id": "813ac9a5",
   "metadata": {},
   "outputs": [
    {
     "data": {
      "text/plain": [
       "'              precision    recall  f1-score   support\\n\\n         cat       0.48      0.89      0.63      1746\\n         dog       0.89      0.49      0.63      3254\\n\\n    accuracy                           0.63      5000\\n   macro avg       0.69      0.69      0.63      5000\\nweighted avg       0.75      0.63      0.63      5000\\n'"
      ]
     },
     "execution_count": 238,
     "metadata": {},
     "output_type": "execute_result"
    }
   ],
   "source": [
    "classification_report(df.actual,df.model2)"
   ]
  },
  {
   "cell_type": "code",
   "execution_count": 239,
   "id": "1632b037",
   "metadata": {},
   "outputs": [
    {
     "data": {
      "text/plain": [
       "'              precision    recall  f1-score   support\\n\\n         cat       0.36      0.51      0.42      1746\\n         dog       0.66      0.51      0.57      3254\\n\\n    accuracy                           0.51      5000\\n   macro avg       0.51      0.51      0.50      5000\\nweighted avg       0.55      0.51      0.52      5000\\n'"
      ]
     },
     "execution_count": 239,
     "metadata": {},
     "output_type": "execute_result"
    }
   ],
   "source": [
    "classification_report(df.actual,df.model3)"
   ]
  },
  {
   "cell_type": "code",
   "execution_count": 240,
   "id": "94ce9084",
   "metadata": {},
   "outputs": [
    {
     "data": {
      "text/plain": [
       "'              precision    recall  f1-score   support\\n\\n         cat       0.81      0.35      0.48      1746\\n         dog       0.73      0.96      0.83      3254\\n\\n    accuracy                           0.74      5000\\n   macro avg       0.77      0.65      0.66      5000\\nweighted avg       0.76      0.74      0.71      5000\\n'"
      ]
     },
     "execution_count": 240,
     "metadata": {},
     "output_type": "execute_result"
    }
   ],
   "source": [
    "classification_report(df.actual,df.model4)"
   ]
  },
  {
   "cell_type": "code",
   "execution_count": 241,
   "id": "99f454e6",
   "metadata": {},
   "outputs": [
    {
     "data": {
      "text/plain": [
       "'              precision    recall  f1-score   support\\n\\n         cat       0.00      0.00      0.00      1746\\n         dog       0.65      1.00      0.79      3254\\n\\n    accuracy                           0.65      5000\\n   macro avg       0.33      0.50      0.39      5000\\nweighted avg       0.42      0.65      0.51      5000\\n'"
      ]
     },
     "execution_count": 241,
     "metadata": {},
     "output_type": "execute_result"
    }
   ],
   "source": [
    "classification_report(df.actual,df.baseline)"
   ]
  },
  {
   "cell_type": "code",
   "execution_count": 242,
   "id": "ded88727",
   "metadata": {},
   "outputs": [
    {
     "data": {
      "text/plain": [
       "'              precision    recall  f1-score   support\\n\\n      Defect       0.80      0.50      0.62        16\\n   No Defect       0.96      0.99      0.97       184\\n\\n    accuracy                           0.95       200\\n   macro avg       0.88      0.74      0.79       200\\nweighted avg       0.95      0.95      0.94       200\\n'"
      ]
     },
     "execution_count": 242,
     "metadata": {},
     "output_type": "execute_result"
    }
   ],
   "source": [
    "classification_report(df_duck.actual,df_duck.model1)"
   ]
  },
  {
   "cell_type": "code",
   "execution_count": 243,
   "id": "0b28daea",
   "metadata": {},
   "outputs": [
    {
     "data": {
      "text/plain": [
       "'              precision    recall  f1-score   support\\n\\n      Defect       0.10      0.56      0.17        16\\n   No Defect       0.94      0.56      0.70       184\\n\\n    accuracy                           0.56       200\\n   macro avg       0.52      0.56      0.44       200\\nweighted avg       0.87      0.56      0.66       200\\n'"
      ]
     },
     "execution_count": 243,
     "metadata": {},
     "output_type": "execute_result"
    }
   ],
   "source": [
    "classification_report(df_duck.actual,df_duck.model2)"
   ]
  },
  {
   "cell_type": "code",
   "execution_count": 244,
   "id": "0584603d",
   "metadata": {},
   "outputs": [
    {
     "data": {
      "text/plain": [
       "'              precision    recall  f1-score   support\\n\\n      Defect       0.13      0.81      0.23        16\\n   No Defect       0.97      0.53      0.69       184\\n\\n    accuracy                           0.56       200\\n   macro avg       0.55      0.67      0.46       200\\nweighted avg       0.90      0.56      0.65       200\\n'"
      ]
     },
     "execution_count": 244,
     "metadata": {},
     "output_type": "execute_result"
    }
   ],
   "source": [
    "classification_report(df_duck.actual,df_duck.model3)"
   ]
  },
  {
   "cell_type": "code",
   "execution_count": 245,
   "id": "ac803860",
   "metadata": {},
   "outputs": [
    {
     "data": {
      "text/plain": [
       "'              precision    recall  f1-score   support\\n\\n      Defect       0.00      0.00      0.00        16\\n   No Defect       0.92      1.00      0.96       184\\n\\n    accuracy                           0.92       200\\n   macro avg       0.46      0.50      0.48       200\\nweighted avg       0.85      0.92      0.88       200\\n'"
      ]
     },
     "execution_count": 245,
     "metadata": {},
     "output_type": "execute_result"
    }
   ],
   "source": [
    "classification_report(df_duck.actual,df_duck.baseline)"
   ]
  },
  {
   "cell_type": "code",
   "execution_count": null,
   "id": "745489d1",
   "metadata": {},
   "outputs": [],
   "source": []
  }
 ],
 "metadata": {
  "kernelspec": {
   "display_name": "Python 3",
   "language": "python",
   "name": "python3"
  },
  "language_info": {
   "codemirror_mode": {
    "name": "ipython",
    "version": 3
   },
   "file_extension": ".py",
   "mimetype": "text/x-python",
   "name": "python",
   "nbconvert_exporter": "python",
   "pygments_lexer": "ipython3",
   "version": "3.8.8"
  }
 },
 "nbformat": 4,
 "nbformat_minor": 5
}
