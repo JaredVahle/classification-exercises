{
 "cells": [
  {
   "cell_type": "code",
   "execution_count": 171,
   "id": "763f9622",
   "metadata": {},
   "outputs": [],
   "source": [
    "from math import sqrt\n",
    "from scipy import stats\n",
    "import matplotlib.pyplot as plt\n",
    "import numpy as np\n",
    "import pandas as pd\n",
    "import seaborn as sns\n",
    "from pydataset import data\n",
    "from sklearn.model_selection import train_test_split\n",
    "from sklearn.impute import SimpleImputer\n",
    "from sklearn.metrics import accuracy_score,precision_score,recall_score,classification_report\n",
    "import prepare\n",
    "from env import user,host,password\n",
    "import acquire\n",
    "import explore\n",
    "import os\n",
    "import warnings\n",
    "warnings.filterwarnings(\"ignore\")"
   ]
  },
  {
   "cell_type": "markdown",
   "id": "74656bfd",
   "metadata": {},
   "source": [
    "#### Given the following confusion matrix, evaluate (by hand) the model's performance."
   ]
  },
  {
   "cell_type": "markdown",
   "id": "9446b911",
   "metadata": {},
   "source": [
    "|               | pred dog   | pred cat   |\n",
    "|:------------  |-----------:|-----------:|\n",
    "| actual dog    |         46 |         7  |\n",
    "| actual cat    |         13 |         34 |"
   ]
  },
  {
   "cell_type": "markdown",
   "id": "ad1ed0bb",
   "metadata": {},
   "source": [
    "- accuracy: .80\n",
    "- recall: ~.78\n",
    "- precision: ~.87"
   ]
  },
  {
   "cell_type": "code",
   "execution_count": 251,
   "id": "674dcbc1",
   "metadata": {},
   "outputs": [],
   "source": [
    "# dog = negative class\n",
    "# cat = positive class"
   ]
  },
  {
   "cell_type": "markdown",
   "id": "f6cc51a5",
   "metadata": {},
   "source": [
    "##### In the context of this problem, what is a false positive?"
   ]
  },
  {
   "cell_type": "code",
   "execution_count": 172,
   "id": "e99e61f5",
   "metadata": {},
   "outputs": [],
   "source": [
    "# the model predicted cat but it was actually a dog"
   ]
  },
  {
   "cell_type": "markdown",
   "id": "57d9e929",
   "metadata": {},
   "source": [
    "##### In the context of this problem, what is a false negative?"
   ]
  },
  {
   "cell_type": "code",
   "execution_count": 173,
   "id": "61465a87",
   "metadata": {},
   "outputs": [],
   "source": [
    "# the model predicted dog but it was actually a cat"
   ]
  },
  {
   "cell_type": "markdown",
   "id": "1f31e85f",
   "metadata": {},
   "source": [
    "##### How would you describe this model?"
   ]
  },
  {
   "cell_type": "code",
   "execution_count": 174,
   "id": "c9c79d54",
   "metadata": {},
   "outputs": [],
   "source": [
    "# Classification model,This model is a somewhat effective since both the true positive and true negative values are high"
   ]
  },
  {
   "cell_type": "markdown",
   "id": "c2860e9c",
   "metadata": {},
   "source": [
    "#### You are working as a datascientist working for Codeup Cody Creator (C3 for short), a rubber-duck manufacturing plant.\n",
    "\n",
    "#### Unfortunately, some of the rubber ducks that are produced will have defects. Your team has built several models that try to predict those defects, and the data from their predictions can be found here."
   ]
  },
  {
   "cell_type": "markdown",
   "id": "0a4ff192",
   "metadata": {},
   "source": [
    "#### Use the predictions dataset and pandas to help answer the following questions:"
   ]
  },
  {
   "cell_type": "code",
   "execution_count": 175,
   "id": "a8323337",
   "metadata": {},
   "outputs": [],
   "source": [
    "df_duck = pd.read_csv(\"/Users/jaredvahle/CodeUp-Datascience/classification-exercises/c3.csv\")"
   ]
  },
  {
   "cell_type": "code",
   "execution_count": 176,
   "id": "504ba3ea",
   "metadata": {},
   "outputs": [
    {
     "data": {
      "text/html": [
       "<div>\n",
       "<style scoped>\n",
       "    .dataframe tbody tr th:only-of-type {\n",
       "        vertical-align: middle;\n",
       "    }\n",
       "\n",
       "    .dataframe tbody tr th {\n",
       "        vertical-align: top;\n",
       "    }\n",
       "\n",
       "    .dataframe thead th {\n",
       "        text-align: right;\n",
       "    }\n",
       "</style>\n",
       "<table border=\"1\" class=\"dataframe\">\n",
       "  <thead>\n",
       "    <tr style=\"text-align: right;\">\n",
       "      <th></th>\n",
       "      <th>actual</th>\n",
       "      <th>model1</th>\n",
       "      <th>model2</th>\n",
       "      <th>model3</th>\n",
       "    </tr>\n",
       "  </thead>\n",
       "  <tbody>\n",
       "    <tr>\n",
       "      <th>0</th>\n",
       "      <td>No Defect</td>\n",
       "      <td>No Defect</td>\n",
       "      <td>Defect</td>\n",
       "      <td>No Defect</td>\n",
       "    </tr>\n",
       "    <tr>\n",
       "      <th>1</th>\n",
       "      <td>No Defect</td>\n",
       "      <td>No Defect</td>\n",
       "      <td>Defect</td>\n",
       "      <td>Defect</td>\n",
       "    </tr>\n",
       "    <tr>\n",
       "      <th>2</th>\n",
       "      <td>No Defect</td>\n",
       "      <td>No Defect</td>\n",
       "      <td>Defect</td>\n",
       "      <td>No Defect</td>\n",
       "    </tr>\n",
       "    <tr>\n",
       "      <th>3</th>\n",
       "      <td>No Defect</td>\n",
       "      <td>Defect</td>\n",
       "      <td>Defect</td>\n",
       "      <td>Defect</td>\n",
       "    </tr>\n",
       "    <tr>\n",
       "      <th>4</th>\n",
       "      <td>No Defect</td>\n",
       "      <td>No Defect</td>\n",
       "      <td>Defect</td>\n",
       "      <td>No Defect</td>\n",
       "    </tr>\n",
       "  </tbody>\n",
       "</table>\n",
       "</div>"
      ],
      "text/plain": [
       "      actual     model1  model2     model3\n",
       "0  No Defect  No Defect  Defect  No Defect\n",
       "1  No Defect  No Defect  Defect     Defect\n",
       "2  No Defect  No Defect  Defect  No Defect\n",
       "3  No Defect     Defect  Defect     Defect\n",
       "4  No Defect  No Defect  Defect  No Defect"
      ]
     },
     "execution_count": 176,
     "metadata": {},
     "output_type": "execute_result"
    }
   ],
   "source": [
    "df_duck.head()"
   ]
  },
  {
   "cell_type": "code",
   "execution_count": 248,
   "id": "96d5d71d",
   "metadata": {},
   "outputs": [],
   "source": [
    "df_duck[\"baseline\"] = \"No Defect\""
   ]
  },
  {
   "cell_type": "code",
   "execution_count": 178,
   "id": "dca40d6a",
   "metadata": {},
   "outputs": [
    {
     "data": {
      "text/html": [
       "<div>\n",
       "<style scoped>\n",
       "    .dataframe tbody tr th:only-of-type {\n",
       "        vertical-align: middle;\n",
       "    }\n",
       "\n",
       "    .dataframe tbody tr th {\n",
       "        vertical-align: top;\n",
       "    }\n",
       "\n",
       "    .dataframe thead th {\n",
       "        text-align: right;\n",
       "    }\n",
       "</style>\n",
       "<table border=\"1\" class=\"dataframe\">\n",
       "  <thead>\n",
       "    <tr style=\"text-align: right;\">\n",
       "      <th>actual</th>\n",
       "      <th>Defect</th>\n",
       "      <th>No Defect</th>\n",
       "    </tr>\n",
       "    <tr>\n",
       "      <th>model1</th>\n",
       "      <th></th>\n",
       "      <th></th>\n",
       "    </tr>\n",
       "  </thead>\n",
       "  <tbody>\n",
       "    <tr>\n",
       "      <th>Defect</th>\n",
       "      <td>8</td>\n",
       "      <td>2</td>\n",
       "    </tr>\n",
       "    <tr>\n",
       "      <th>No Defect</th>\n",
       "      <td>8</td>\n",
       "      <td>182</td>\n",
       "    </tr>\n",
       "  </tbody>\n",
       "</table>\n",
       "</div>"
      ],
      "text/plain": [
       "actual     Defect  No Defect\n",
       "model1                      \n",
       "Defect          8          2\n",
       "No Defect       8        182"
      ]
     },
     "execution_count": 178,
     "metadata": {},
     "output_type": "execute_result"
    }
   ],
   "source": [
    "pd.crosstab(df_duck.model1,df_duck.actual)"
   ]
  },
  {
   "cell_type": "markdown",
   "id": "7dfc6e1c",
   "metadata": {},
   "source": [
    "### An internal team wants to investigate the cause of the manufacturing defects. They tell you that they want to identify as many of the ducks that have a defect as possible. Which evaluation metric would be appropriate here? Which model would be the best fit for this use case?"
   ]
  },
  {
   "cell_type": "markdown",
   "id": "c02688ac",
   "metadata": {},
   "source": [
    "#### accuracy for checking the overall model so you can see the rate of defects\n",
    "\n",
    "#### True positive = duck defect and detected | False positive = no duck defect but defect detected\n",
    "\n",
    "#### False negative = duck defect but not detected | True Negative = no duck defect and no duck detected"
   ]
  },
  {
   "cell_type": "code",
   "execution_count": 179,
   "id": "3dc6360d",
   "metadata": {},
   "outputs": [
    {
     "data": {
      "text/plain": [
       "0.95"
      ]
     },
     "execution_count": 179,
     "metadata": {},
     "output_type": "execute_result"
    }
   ],
   "source": [
    "model_accuracy = (df_duck.actual == df_duck.model1).mean()\n",
    "model_accuracy"
   ]
  },
  {
   "cell_type": "markdown",
   "id": "0003d40f",
   "metadata": {},
   "source": [
    "### Model 3 is the best fit model"
   ]
  },
  {
   "cell_type": "code",
   "execution_count": 180,
   "id": "affd389e",
   "metadata": {},
   "outputs": [
    {
     "data": {
      "text/plain": [
       "0.56"
      ]
     },
     "execution_count": 180,
     "metadata": {},
     "output_type": "execute_result"
    }
   ],
   "source": [
    "model_accuracy = (df_duck.actual == df_duck.model2).mean()\n",
    "model_accuracy"
   ]
  },
  {
   "cell_type": "code",
   "execution_count": 181,
   "id": "5c73fd2e",
   "metadata": {},
   "outputs": [
    {
     "data": {
      "text/plain": [
       "0.555"
      ]
     },
     "execution_count": 181,
     "metadata": {},
     "output_type": "execute_result"
    }
   ],
   "source": [
    "model_accuracy = (df_duck.actual == df_duck.model3).mean()\n",
    "model_accuracy"
   ]
  },
  {
   "cell_type": "markdown",
   "id": "2833daa9",
   "metadata": {},
   "source": [
    "#### Recently several stories in the local news have come out highlighting customers who received a rubber duck with a defect, and portraying C3 in a bad light. The PR team has decided to launch a program that gives customers with a defective duck a vacation to Hawaii. They need you to predict which ducks will have defects, but tell you the really don't want to accidentally give out a vacation package when the duck really doesn't have a defect. Which evaluation metric would be appropriate here? Which model would be the best fit for this use case?"
   ]
  },
  {
   "cell_type": "markdown",
   "id": "49caae74",
   "metadata": {},
   "source": [
    "### RECALL"
   ]
  },
  {
   "cell_type": "code",
   "execution_count": 182,
   "id": "d4f56bc4",
   "metadata": {},
   "outputs": [
    {
     "data": {
      "text/plain": [
       "0.5"
      ]
     },
     "execution_count": 182,
     "metadata": {},
     "output_type": "execute_result"
    }
   ],
   "source": [
    "subset = df_duck[df_duck.actual == \"Defect\"]\n",
    "baseline_recall = (subset.actual == subset.model1).mean()\n",
    "baseline_recall"
   ]
  },
  {
   "cell_type": "code",
   "execution_count": 183,
   "id": "545f6f82",
   "metadata": {},
   "outputs": [
    {
     "data": {
      "text/plain": [
       "0.5"
      ]
     },
     "execution_count": 183,
     "metadata": {},
     "output_type": "execute_result"
    }
   ],
   "source": [
    "baseline_recall = (subset.actual == subset.model1).mean()\n",
    "baseline_recall"
   ]
  },
  {
   "cell_type": "code",
   "execution_count": 184,
   "id": "2cd7c8ef",
   "metadata": {},
   "outputs": [
    {
     "data": {
      "text/plain": [
       "0.5625"
      ]
     },
     "execution_count": 184,
     "metadata": {},
     "output_type": "execute_result"
    }
   ],
   "source": [
    "model_accuracy = (subset.actual == subset.model2).mean()\n",
    "model_accuracy"
   ]
  },
  {
   "cell_type": "code",
   "execution_count": 185,
   "id": "8b8a9be2",
   "metadata": {},
   "outputs": [
    {
     "data": {
      "text/plain": [
       "0.8125"
      ]
     },
     "execution_count": 185,
     "metadata": {},
     "output_type": "execute_result"
    }
   ],
   "source": [
    "model_accuracy = (subset.actual == subset.model3).mean()\n",
    "model_accuracy"
   ]
  },
  {
   "cell_type": "code",
   "execution_count": 186,
   "id": "caa14524",
   "metadata": {},
   "outputs": [],
   "source": [
    "# model 3 is the best for this case"
   ]
  },
  {
   "cell_type": "markdown",
   "id": "487b9666",
   "metadata": {},
   "source": [
    "## PRECISION"
   ]
  },
  {
   "cell_type": "code",
   "execution_count": 187,
   "id": "21f4a932",
   "metadata": {},
   "outputs": [
    {
     "data": {
      "text/plain": [
       "0.8"
      ]
     },
     "execution_count": 187,
     "metadata": {},
     "output_type": "execute_result"
    }
   ],
   "source": [
    "subset = df_duck[df_duck.model1 == \"Defect\"]\n",
    "baseline_recall = (subset.actual == subset.model1).mean()\n",
    "baseline_recall"
   ]
  },
  {
   "cell_type": "code",
   "execution_count": 188,
   "id": "d9194ede",
   "metadata": {},
   "outputs": [
    {
     "data": {
      "text/plain": [
       "0.1"
      ]
     },
     "execution_count": 188,
     "metadata": {},
     "output_type": "execute_result"
    }
   ],
   "source": [
    "subset = df_duck[df_duck.model2 == \"Defect\"]\n",
    "model_accuracy = (subset.actual == subset.model2).mean()\n",
    "model_accuracy"
   ]
  },
  {
   "cell_type": "code",
   "execution_count": 189,
   "id": "102c98bf",
   "metadata": {},
   "outputs": [
    {
     "data": {
      "text/plain": [
       "0.13131313131313133"
      ]
     },
     "execution_count": 189,
     "metadata": {},
     "output_type": "execute_result"
    }
   ],
   "source": [
    "subset = df_duck[df_duck.model3 == \"Defect\"]\n",
    "model_accuracy = (subset.actual == subset.model3).mean()\n",
    "model_accuracy"
   ]
  },
  {
   "cell_type": "code",
   "execution_count": 252,
   "id": "2f8e8f0c",
   "metadata": {},
   "outputs": [],
   "source": [
    "# model 1 is best for precision if they give packages to everyone that a defect is detected"
   ]
  },
  {
   "cell_type": "markdown",
   "id": "7f776d0a",
   "metadata": {},
   "source": [
    "##### You are working as a data scientist for Gives You Paws ™, a subscription based service that shows you cute pictures of dogs or cats (or both for an additional fee)."
   ]
  },
  {
   "cell_type": "markdown",
   "id": "00256286",
   "metadata": {},
   "source": [
    "##### At Gives You Paws, anyone can upload pictures of their cats or dogs. The photos are then put through a two step process. First an automated algorithm tags pictures as either a cat or a dog (Phase I). Next, the photos that have been initially identified are put through another round of review, possibly with some human oversight, before being presented to the users (Phase II)."
   ]
  },
  {
   "cell_type": "markdown",
   "id": "78cdbc37",
   "metadata": {},
   "source": [
    "#### Given this dataset, use pandas to create a baseline model (i.e. a model that just predicts the most common class) and answer the following questions:\n",
    "\n",
    "- a. In terms of accuracy, how do the various models compare to the baseline model? Are any of the models better than the baseline?\n",
    "\n",
    "- b. Suppose you are working on a team that solely deals with dog pictures. Which of these models would you recomend for Phase I? For Phase II?\n",
    "\n",
    "- c. Suppose you are working on a team that solely deals with cat pictures. Which of these models would you recomend for Phase I? For Phase II?"
   ]
  },
  {
   "cell_type": "markdown",
   "id": "70731bd2",
   "metadata": {},
   "source": [
    "#### True positive = dog detected actually dog | False positive = cat detected but actually a dog\n",
    "\n",
    "#### False negative = dog detected but actually cat | True Negative = cat detected and actually cat"
   ]
  },
  {
   "cell_type": "code",
   "execution_count": 191,
   "id": "0bb230bf",
   "metadata": {},
   "outputs": [],
   "source": [
    "df = pd.read_csv(\"/Users/jaredvahle/CodeUp-Datascience/classification-exercises/gives_you_paws.csv\")"
   ]
  },
  {
   "cell_type": "code",
   "execution_count": 192,
   "id": "7457c2e1",
   "metadata": {},
   "outputs": [],
   "source": [
    "df[\"baseline\"] = \"dog\""
   ]
  },
  {
   "cell_type": "code",
   "execution_count": 193,
   "id": "43093872",
   "metadata": {},
   "outputs": [
    {
     "data": {
      "text/html": [
       "<div>\n",
       "<style scoped>\n",
       "    .dataframe tbody tr th:only-of-type {\n",
       "        vertical-align: middle;\n",
       "    }\n",
       "\n",
       "    .dataframe tbody tr th {\n",
       "        vertical-align: top;\n",
       "    }\n",
       "\n",
       "    .dataframe thead th {\n",
       "        text-align: right;\n",
       "    }\n",
       "</style>\n",
       "<table border=\"1\" class=\"dataframe\">\n",
       "  <thead>\n",
       "    <tr style=\"text-align: right;\">\n",
       "      <th></th>\n",
       "      <th>actual</th>\n",
       "      <th>model1</th>\n",
       "      <th>model2</th>\n",
       "      <th>model3</th>\n",
       "      <th>model4</th>\n",
       "      <th>baseline</th>\n",
       "    </tr>\n",
       "  </thead>\n",
       "  <tbody>\n",
       "    <tr>\n",
       "      <th>0</th>\n",
       "      <td>cat</td>\n",
       "      <td>cat</td>\n",
       "      <td>dog</td>\n",
       "      <td>cat</td>\n",
       "      <td>dog</td>\n",
       "      <td>dog</td>\n",
       "    </tr>\n",
       "    <tr>\n",
       "      <th>1</th>\n",
       "      <td>dog</td>\n",
       "      <td>dog</td>\n",
       "      <td>cat</td>\n",
       "      <td>cat</td>\n",
       "      <td>dog</td>\n",
       "      <td>dog</td>\n",
       "    </tr>\n",
       "    <tr>\n",
       "      <th>2</th>\n",
       "      <td>dog</td>\n",
       "      <td>cat</td>\n",
       "      <td>cat</td>\n",
       "      <td>cat</td>\n",
       "      <td>dog</td>\n",
       "      <td>dog</td>\n",
       "    </tr>\n",
       "    <tr>\n",
       "      <th>3</th>\n",
       "      <td>dog</td>\n",
       "      <td>dog</td>\n",
       "      <td>dog</td>\n",
       "      <td>cat</td>\n",
       "      <td>dog</td>\n",
       "      <td>dog</td>\n",
       "    </tr>\n",
       "    <tr>\n",
       "      <th>4</th>\n",
       "      <td>cat</td>\n",
       "      <td>cat</td>\n",
       "      <td>cat</td>\n",
       "      <td>dog</td>\n",
       "      <td>dog</td>\n",
       "      <td>dog</td>\n",
       "    </tr>\n",
       "  </tbody>\n",
       "</table>\n",
       "</div>"
      ],
      "text/plain": [
       "  actual model1 model2 model3 model4 baseline\n",
       "0    cat    cat    dog    cat    dog      dog\n",
       "1    dog    dog    cat    cat    dog      dog\n",
       "2    dog    cat    cat    cat    dog      dog\n",
       "3    dog    dog    dog    cat    dog      dog\n",
       "4    cat    cat    cat    dog    dog      dog"
      ]
     },
     "execution_count": 193,
     "metadata": {},
     "output_type": "execute_result"
    }
   ],
   "source": [
    "df.head()"
   ]
  },
  {
   "cell_type": "code",
   "execution_count": 194,
   "id": "e34dd751",
   "metadata": {},
   "outputs": [
    {
     "data": {
      "text/plain": [
       "0.8074"
      ]
     },
     "execution_count": 194,
     "metadata": {},
     "output_type": "execute_result"
    }
   ],
   "source": [
    "model_accuracy = (df.actual == df.model1).mean()\n",
    "model_accuracy"
   ]
  },
  {
   "cell_type": "markdown",
   "id": "d6020b65",
   "metadata": {},
   "source": [
    "### Model 1 is better than baseline"
   ]
  },
  {
   "cell_type": "code",
   "execution_count": 195,
   "id": "c8de21b5",
   "metadata": {},
   "outputs": [
    {
     "data": {
      "text/plain": [
       "0.6304"
      ]
     },
     "execution_count": 195,
     "metadata": {},
     "output_type": "execute_result"
    }
   ],
   "source": [
    "model_accuracy = (df.actual == df.model2).mean()\n",
    "model_accuracy"
   ]
  },
  {
   "cell_type": "code",
   "execution_count": 196,
   "id": "7becabc6",
   "metadata": {},
   "outputs": [
    {
     "data": {
      "text/plain": [
       "0.5096"
      ]
     },
     "execution_count": 196,
     "metadata": {},
     "output_type": "execute_result"
    }
   ],
   "source": [
    "model_accuracy = (df.actual == df.model3).mean()\n",
    "model_accuracy"
   ]
  },
  {
   "cell_type": "code",
   "execution_count": 197,
   "id": "236553e3",
   "metadata": {},
   "outputs": [
    {
     "data": {
      "text/plain": [
       "0.7426"
      ]
     },
     "execution_count": 197,
     "metadata": {},
     "output_type": "execute_result"
    }
   ],
   "source": [
    "model_accuracy = (df.actual == df.model4).mean()\n",
    "model_accuracy"
   ]
  },
  {
   "cell_type": "markdown",
   "id": "f7c7c44b",
   "metadata": {},
   "source": [
    "### Model 4 is better than baseline"
   ]
  },
  {
   "cell_type": "markdown",
   "id": "e0746273",
   "metadata": {},
   "source": [
    "### Baseline model"
   ]
  },
  {
   "cell_type": "code",
   "execution_count": 198,
   "id": "bacdc875",
   "metadata": {},
   "outputs": [
    {
     "data": {
      "text/plain": [
       "0.6508"
      ]
     },
     "execution_count": 198,
     "metadata": {},
     "output_type": "execute_result"
    }
   ],
   "source": [
    "model_accuracy = (df.actual == df.baseline).mean()\n",
    "model_accuracy"
   ]
  },
  {
   "cell_type": "markdown",
   "id": "b757711a",
   "metadata": {},
   "source": [
    "### TEAM THAT ONLY WORKS WITH DOGS"
   ]
  },
  {
   "cell_type": "markdown",
   "id": "e686ae71",
   "metadata": {},
   "source": [
    "### Phase 1"
   ]
  },
  {
   "cell_type": "code",
   "execution_count": 254,
   "id": "8d5fd400",
   "metadata": {},
   "outputs": [],
   "source": [
    "subset1 = df[df.model1 == \"dog\"]\n",
    "subset2 = df[df.model2 == \"dog\"]\n",
    "subset3 = df[df.model3 == \"dog\"]\n",
    "subset4 = df[df.model4 == \"dog\"]"
   ]
  },
  {
   "cell_type": "code",
   "execution_count": 255,
   "id": "4267fc19",
   "metadata": {},
   "outputs": [
    {
     "data": {
      "text/plain": [
       "0.8900238338440586"
      ]
     },
     "execution_count": 255,
     "metadata": {},
     "output_type": "execute_result"
    }
   ],
   "source": [
    "(subset1.actual == subset1.model1).mean()"
   ]
  },
  {
   "cell_type": "code",
   "execution_count": 256,
   "id": "2406b4e9",
   "metadata": {},
   "outputs": [
    {
     "data": {
      "text/plain": [
       "0.8931767337807607"
      ]
     },
     "execution_count": 256,
     "metadata": {},
     "output_type": "execute_result"
    }
   ],
   "source": [
    "(subset2.actual == subset2.model2).mean()"
   ]
  },
  {
   "cell_type": "code",
   "execution_count": 257,
   "id": "19dd943b",
   "metadata": {},
   "outputs": [
    {
     "data": {
      "text/plain": [
       "0.6598883572567783"
      ]
     },
     "execution_count": 257,
     "metadata": {},
     "output_type": "execute_result"
    }
   ],
   "source": [
    "(subset3.actual == subset3.model3).mean()"
   ]
  },
  {
   "cell_type": "code",
   "execution_count": 258,
   "id": "c23d13d0",
   "metadata": {},
   "outputs": [
    {
     "data": {
      "text/plain": [
       "0.7312485304490948"
      ]
     },
     "execution_count": 258,
     "metadata": {},
     "output_type": "execute_result"
    }
   ],
   "source": [
    "(subset4.actual == subset4.model4).mean()"
   ]
  },
  {
   "cell_type": "markdown",
   "id": "6e48ecdf",
   "metadata": {},
   "source": [
    "RECALL"
   ]
  },
  {
   "cell_type": "code",
   "execution_count": 199,
   "id": "f93d9537",
   "metadata": {},
   "outputs": [],
   "source": [
    "subset = df[df.actual == \"dog\"]"
   ]
  },
  {
   "cell_type": "code",
   "execution_count": 200,
   "id": "019c9530",
   "metadata": {},
   "outputs": [
    {
     "data": {
      "text/plain": [
       "0.803318992009834"
      ]
     },
     "execution_count": 200,
     "metadata": {},
     "output_type": "execute_result"
    }
   ],
   "source": [
    "model_accuracy = (subset.actual == subset.model1).mean()\n",
    "model_accuracy"
   ]
  },
  {
   "cell_type": "code",
   "execution_count": 201,
   "id": "ba103259",
   "metadata": {},
   "outputs": [
    {
     "data": {
      "text/plain": [
       "0.49078057775046097"
      ]
     },
     "execution_count": 201,
     "metadata": {},
     "output_type": "execute_result"
    }
   ],
   "source": [
    "model_accuracy = (subset.actual == subset.model2).mean()\n",
    "model_accuracy"
   ]
  },
  {
   "cell_type": "code",
   "execution_count": 202,
   "id": "c8472661",
   "metadata": {},
   "outputs": [
    {
     "data": {
      "text/plain": [
       "0.5086047940995697"
      ]
     },
     "execution_count": 202,
     "metadata": {},
     "output_type": "execute_result"
    }
   ],
   "source": [
    "model_accuracy = (subset.actual == subset.model3).mean()\n",
    "model_accuracy"
   ]
  },
  {
   "cell_type": "code",
   "execution_count": 203,
   "id": "eac34b82",
   "metadata": {},
   "outputs": [
    {
     "data": {
      "text/plain": [
       "0.9557467732022127"
      ]
     },
     "execution_count": 203,
     "metadata": {},
     "output_type": "execute_result"
    }
   ],
   "source": [
    "model_accuracy = (subset.actual == subset.model4).mean()\n",
    "model_accuracy"
   ]
  },
  {
   "cell_type": "code",
   "execution_count": 253,
   "id": "e012650e",
   "metadata": {},
   "outputs": [
    {
     "data": {
      "text/html": [
       "<div>\n",
       "<style scoped>\n",
       "    .dataframe tbody tr th:only-of-type {\n",
       "        vertical-align: middle;\n",
       "    }\n",
       "\n",
       "    .dataframe tbody tr th {\n",
       "        vertical-align: top;\n",
       "    }\n",
       "\n",
       "    .dataframe thead th {\n",
       "        text-align: right;\n",
       "    }\n",
       "</style>\n",
       "<table border=\"1\" class=\"dataframe\">\n",
       "  <thead>\n",
       "    <tr style=\"text-align: right;\">\n",
       "      <th>actual</th>\n",
       "      <th>cat</th>\n",
       "      <th>dog</th>\n",
       "    </tr>\n",
       "    <tr>\n",
       "      <th>model4</th>\n",
       "      <th></th>\n",
       "      <th></th>\n",
       "    </tr>\n",
       "  </thead>\n",
       "  <tbody>\n",
       "    <tr>\n",
       "      <th>cat</th>\n",
       "      <td>603</td>\n",
       "      <td>144</td>\n",
       "    </tr>\n",
       "    <tr>\n",
       "      <th>dog</th>\n",
       "      <td>1143</td>\n",
       "      <td>3110</td>\n",
       "    </tr>\n",
       "  </tbody>\n",
       "</table>\n",
       "</div>"
      ],
      "text/plain": [
       "actual   cat   dog\n",
       "model4            \n",
       "cat      603   144\n",
       "dog     1143  3110"
      ]
     },
     "execution_count": 253,
     "metadata": {},
     "output_type": "execute_result"
    }
   ],
   "source": [
    "pd.crosstab(df.model4,df.actual)"
   ]
  },
  {
   "cell_type": "markdown",
   "id": "75948555",
   "metadata": {},
   "source": [
    "### Phase 2"
   ]
  },
  {
   "cell_type": "code",
   "execution_count": 205,
   "id": "0ff7fc31",
   "metadata": {},
   "outputs": [],
   "source": [
    "subset = df[df.model4 == \"dog\"]"
   ]
  },
  {
   "cell_type": "code",
   "execution_count": 206,
   "id": "f95ab85c",
   "metadata": {},
   "outputs": [
    {
     "data": {
      "text/plain": [
       "0.6369621443686809"
      ]
     },
     "execution_count": 206,
     "metadata": {},
     "output_type": "execute_result"
    }
   ],
   "source": [
    "model_accuracy = (subset.model4 == subset.model1).mean()\n",
    "model_accuracy"
   ]
  },
  {
   "cell_type": "code",
   "execution_count": 207,
   "id": "3c57e96d",
   "metadata": {},
   "outputs": [
    {
     "data": {
      "text/plain": [
       "0.3891370797084411"
      ]
     },
     "execution_count": 207,
     "metadata": {},
     "output_type": "execute_result"
    }
   ],
   "source": [
    "model_accuracy = (subset.model4 == subset.model2).mean()\n",
    "model_accuracy"
   ]
  },
  {
   "cell_type": "code",
   "execution_count": 208,
   "id": "90c79391",
   "metadata": {},
   "outputs": [
    {
     "data": {
      "text/plain": [
       "0.5074065365624265"
      ]
     },
     "execution_count": 208,
     "metadata": {},
     "output_type": "execute_result"
    }
   ],
   "source": [
    "model_accuracy = (subset.model4 == subset.model3).mean()\n",
    "model_accuracy"
   ]
  },
  {
   "cell_type": "code",
   "execution_count": 209,
   "id": "d414f003",
   "metadata": {},
   "outputs": [],
   "source": [
    "# of the 95% the first model gets the second model gets 63% of that 5 percent the first model missed"
   ]
  },
  {
   "cell_type": "markdown",
   "id": "05cd3683",
   "metadata": {},
   "source": [
    "### TEAM THAT WORKS WITH ONLY CATS"
   ]
  },
  {
   "cell_type": "markdown",
   "id": "69145f71",
   "metadata": {},
   "source": [
    "### PHASE 1"
   ]
  },
  {
   "cell_type": "code",
   "execution_count": 262,
   "id": "56c4440e",
   "metadata": {},
   "outputs": [
    {
     "name": "stdout",
     "output_type": "stream",
     "text": [
      "model 1\n"
     ]
    },
    {
     "data": {
      "text/html": [
       "<div>\n",
       "<style scoped>\n",
       "    .dataframe tbody tr th:only-of-type {\n",
       "        vertical-align: middle;\n",
       "    }\n",
       "\n",
       "    .dataframe tbody tr th {\n",
       "        vertical-align: top;\n",
       "    }\n",
       "\n",
       "    .dataframe thead th {\n",
       "        text-align: right;\n",
       "    }\n",
       "</style>\n",
       "<table border=\"1\" class=\"dataframe\">\n",
       "  <thead>\n",
       "    <tr style=\"text-align: right;\">\n",
       "      <th></th>\n",
       "      <th>precision</th>\n",
       "      <th>recall</th>\n",
       "      <th>f1-score</th>\n",
       "      <th>support</th>\n",
       "    </tr>\n",
       "  </thead>\n",
       "  <tbody>\n",
       "    <tr>\n",
       "      <th>cat</th>\n",
       "      <td>0.689772</td>\n",
       "      <td>0.815006</td>\n",
       "      <td>0.747178</td>\n",
       "      <td>1746.0000</td>\n",
       "    </tr>\n",
       "    <tr>\n",
       "      <th>dog</th>\n",
       "      <td>0.890024</td>\n",
       "      <td>0.803319</td>\n",
       "      <td>0.844452</td>\n",
       "      <td>3254.0000</td>\n",
       "    </tr>\n",
       "    <tr>\n",
       "      <th>accuracy</th>\n",
       "      <td>0.807400</td>\n",
       "      <td>0.807400</td>\n",
       "      <td>0.807400</td>\n",
       "      <td>0.8074</td>\n",
       "    </tr>\n",
       "    <tr>\n",
       "      <th>macro avg</th>\n",
       "      <td>0.789898</td>\n",
       "      <td>0.809162</td>\n",
       "      <td>0.795815</td>\n",
       "      <td>5000.0000</td>\n",
       "    </tr>\n",
       "    <tr>\n",
       "      <th>weighted avg</th>\n",
       "      <td>0.820096</td>\n",
       "      <td>0.807400</td>\n",
       "      <td>0.810484</td>\n",
       "      <td>5000.0000</td>\n",
       "    </tr>\n",
       "  </tbody>\n",
       "</table>\n",
       "</div>"
      ],
      "text/plain": [
       "              precision    recall  f1-score    support\n",
       "cat            0.689772  0.815006  0.747178  1746.0000\n",
       "dog            0.890024  0.803319  0.844452  3254.0000\n",
       "accuracy       0.807400  0.807400  0.807400     0.8074\n",
       "macro avg      0.789898  0.809162  0.795815  5000.0000\n",
       "weighted avg   0.820096  0.807400  0.810484  5000.0000"
      ]
     },
     "execution_count": 262,
     "metadata": {},
     "output_type": "execute_result"
    }
   ],
   "source": [
    "print(\"model 1\")\n",
    "pd.DataFrame(classification_report(df.actual, df.model1,\n",
    "                         labels = [\"cat\",\"dog\"],\n",
    "                         output_dict = True)).T"
   ]
  },
  {
   "cell_type": "code",
   "execution_count": 263,
   "id": "6e3c1c32",
   "metadata": {},
   "outputs": [
    {
     "name": "stdout",
     "output_type": "stream",
     "text": [
      "model 2\n"
     ]
    },
    {
     "data": {
      "text/html": [
       "<div>\n",
       "<style scoped>\n",
       "    .dataframe tbody tr th:only-of-type {\n",
       "        vertical-align: middle;\n",
       "    }\n",
       "\n",
       "    .dataframe tbody tr th {\n",
       "        vertical-align: top;\n",
       "    }\n",
       "\n",
       "    .dataframe thead th {\n",
       "        text-align: right;\n",
       "    }\n",
       "</style>\n",
       "<table border=\"1\" class=\"dataframe\">\n",
       "  <thead>\n",
       "    <tr style=\"text-align: right;\">\n",
       "      <th></th>\n",
       "      <th>precision</th>\n",
       "      <th>recall</th>\n",
       "      <th>f1-score</th>\n",
       "      <th>support</th>\n",
       "    </tr>\n",
       "  </thead>\n",
       "  <tbody>\n",
       "    <tr>\n",
       "      <th>cat</th>\n",
       "      <td>0.484122</td>\n",
       "      <td>0.890607</td>\n",
       "      <td>0.627269</td>\n",
       "      <td>1746.0000</td>\n",
       "    </tr>\n",
       "    <tr>\n",
       "      <th>dog</th>\n",
       "      <td>0.893177</td>\n",
       "      <td>0.490781</td>\n",
       "      <td>0.633479</td>\n",
       "      <td>3254.0000</td>\n",
       "    </tr>\n",
       "    <tr>\n",
       "      <th>accuracy</th>\n",
       "      <td>0.630400</td>\n",
       "      <td>0.630400</td>\n",
       "      <td>0.630400</td>\n",
       "      <td>0.6304</td>\n",
       "    </tr>\n",
       "    <tr>\n",
       "      <th>macro avg</th>\n",
       "      <td>0.688649</td>\n",
       "      <td>0.690694</td>\n",
       "      <td>0.630374</td>\n",
       "      <td>5000.0000</td>\n",
       "    </tr>\n",
       "    <tr>\n",
       "      <th>weighted avg</th>\n",
       "      <td>0.750335</td>\n",
       "      <td>0.630400</td>\n",
       "      <td>0.631310</td>\n",
       "      <td>5000.0000</td>\n",
       "    </tr>\n",
       "  </tbody>\n",
       "</table>\n",
       "</div>"
      ],
      "text/plain": [
       "              precision    recall  f1-score    support\n",
       "cat            0.484122  0.890607  0.627269  1746.0000\n",
       "dog            0.893177  0.490781  0.633479  3254.0000\n",
       "accuracy       0.630400  0.630400  0.630400     0.6304\n",
       "macro avg      0.688649  0.690694  0.630374  5000.0000\n",
       "weighted avg   0.750335  0.630400  0.631310  5000.0000"
      ]
     },
     "execution_count": 263,
     "metadata": {},
     "output_type": "execute_result"
    }
   ],
   "source": [
    "print(\"model 2\")\n",
    "pd.DataFrame(classification_report(df.actual, df.model2,\n",
    "                         labels = [\"cat\",\"dog\"],\n",
    "                         output_dict = True)).T"
   ]
  },
  {
   "cell_type": "code",
   "execution_count": 264,
   "id": "1bddc7f5",
   "metadata": {},
   "outputs": [
    {
     "name": "stdout",
     "output_type": "stream",
     "text": [
      "model 3\n"
     ]
    },
    {
     "data": {
      "text/html": [
       "<div>\n",
       "<style scoped>\n",
       "    .dataframe tbody tr th:only-of-type {\n",
       "        vertical-align: middle;\n",
       "    }\n",
       "\n",
       "    .dataframe tbody tr th {\n",
       "        vertical-align: top;\n",
       "    }\n",
       "\n",
       "    .dataframe thead th {\n",
       "        text-align: right;\n",
       "    }\n",
       "</style>\n",
       "<table border=\"1\" class=\"dataframe\">\n",
       "  <thead>\n",
       "    <tr style=\"text-align: right;\">\n",
       "      <th></th>\n",
       "      <th>precision</th>\n",
       "      <th>recall</th>\n",
       "      <th>f1-score</th>\n",
       "      <th>support</th>\n",
       "    </tr>\n",
       "  </thead>\n",
       "  <tbody>\n",
       "    <tr>\n",
       "      <th>cat</th>\n",
       "      <td>0.358347</td>\n",
       "      <td>0.511455</td>\n",
       "      <td>0.421425</td>\n",
       "      <td>1746.0000</td>\n",
       "    </tr>\n",
       "    <tr>\n",
       "      <th>dog</th>\n",
       "      <td>0.659888</td>\n",
       "      <td>0.508605</td>\n",
       "      <td>0.574453</td>\n",
       "      <td>3254.0000</td>\n",
       "    </tr>\n",
       "    <tr>\n",
       "      <th>accuracy</th>\n",
       "      <td>0.509600</td>\n",
       "      <td>0.509600</td>\n",
       "      <td>0.509600</td>\n",
       "      <td>0.5096</td>\n",
       "    </tr>\n",
       "    <tr>\n",
       "      <th>macro avg</th>\n",
       "      <td>0.509118</td>\n",
       "      <td>0.510030</td>\n",
       "      <td>0.497939</td>\n",
       "      <td>5000.0000</td>\n",
       "    </tr>\n",
       "    <tr>\n",
       "      <th>weighted avg</th>\n",
       "      <td>0.554590</td>\n",
       "      <td>0.509600</td>\n",
       "      <td>0.521016</td>\n",
       "      <td>5000.0000</td>\n",
       "    </tr>\n",
       "  </tbody>\n",
       "</table>\n",
       "</div>"
      ],
      "text/plain": [
       "              precision    recall  f1-score    support\n",
       "cat            0.358347  0.511455  0.421425  1746.0000\n",
       "dog            0.659888  0.508605  0.574453  3254.0000\n",
       "accuracy       0.509600  0.509600  0.509600     0.5096\n",
       "macro avg      0.509118  0.510030  0.497939  5000.0000\n",
       "weighted avg   0.554590  0.509600  0.521016  5000.0000"
      ]
     },
     "execution_count": 264,
     "metadata": {},
     "output_type": "execute_result"
    }
   ],
   "source": [
    "print(\"model 3\")\n",
    "pd.DataFrame(classification_report(df.actual, df.model3,\n",
    "                         labels = [\"cat\",\"dog\"],\n",
    "                         output_dict = True)).T"
   ]
  },
  {
   "cell_type": "code",
   "execution_count": 265,
   "id": "581140ca",
   "metadata": {},
   "outputs": [
    {
     "name": "stdout",
     "output_type": "stream",
     "text": [
      "model 4\n"
     ]
    },
    {
     "data": {
      "text/html": [
       "<div>\n",
       "<style scoped>\n",
       "    .dataframe tbody tr th:only-of-type {\n",
       "        vertical-align: middle;\n",
       "    }\n",
       "\n",
       "    .dataframe tbody tr th {\n",
       "        vertical-align: top;\n",
       "    }\n",
       "\n",
       "    .dataframe thead th {\n",
       "        text-align: right;\n",
       "    }\n",
       "</style>\n",
       "<table border=\"1\" class=\"dataframe\">\n",
       "  <thead>\n",
       "    <tr style=\"text-align: right;\">\n",
       "      <th></th>\n",
       "      <th>precision</th>\n",
       "      <th>recall</th>\n",
       "      <th>f1-score</th>\n",
       "      <th>support</th>\n",
       "    </tr>\n",
       "  </thead>\n",
       "  <tbody>\n",
       "    <tr>\n",
       "      <th>cat</th>\n",
       "      <td>0.807229</td>\n",
       "      <td>0.345361</td>\n",
       "      <td>0.483755</td>\n",
       "      <td>1746.0000</td>\n",
       "    </tr>\n",
       "    <tr>\n",
       "      <th>dog</th>\n",
       "      <td>0.731249</td>\n",
       "      <td>0.955747</td>\n",
       "      <td>0.828560</td>\n",
       "      <td>3254.0000</td>\n",
       "    </tr>\n",
       "    <tr>\n",
       "      <th>accuracy</th>\n",
       "      <td>0.742600</td>\n",
       "      <td>0.742600</td>\n",
       "      <td>0.742600</td>\n",
       "      <td>0.7426</td>\n",
       "    </tr>\n",
       "    <tr>\n",
       "      <th>macro avg</th>\n",
       "      <td>0.769239</td>\n",
       "      <td>0.650554</td>\n",
       "      <td>0.656157</td>\n",
       "      <td>5000.0000</td>\n",
       "    </tr>\n",
       "    <tr>\n",
       "      <th>weighted avg</th>\n",
       "      <td>0.757781</td>\n",
       "      <td>0.742600</td>\n",
       "      <td>0.708154</td>\n",
       "      <td>5000.0000</td>\n",
       "    </tr>\n",
       "  </tbody>\n",
       "</table>\n",
       "</div>"
      ],
      "text/plain": [
       "              precision    recall  f1-score    support\n",
       "cat            0.807229  0.345361  0.483755  1746.0000\n",
       "dog            0.731249  0.955747  0.828560  3254.0000\n",
       "accuracy       0.742600  0.742600  0.742600     0.7426\n",
       "macro avg      0.769239  0.650554  0.656157  5000.0000\n",
       "weighted avg   0.757781  0.742600  0.708154  5000.0000"
      ]
     },
     "execution_count": 265,
     "metadata": {},
     "output_type": "execute_result"
    }
   ],
   "source": [
    "print(\"model 4\")\n",
    "pd.DataFrame(classification_report(df.actual, df.model4,\n",
    "                         labels = [\"cat\",\"dog\"],\n",
    "                         output_dict = True)).T"
   ]
  },
  {
   "cell_type": "code",
   "execution_count": 267,
   "id": "f93f7fa6",
   "metadata": {},
   "outputs": [],
   "source": [
    "# MODEL 2 has the highest recall of 0.89\n",
    "# MODEL 4 has the highest precision of 0.81"
   ]
  },
  {
   "cell_type": "code",
   "execution_count": 210,
   "id": "eba68dc0",
   "metadata": {},
   "outputs": [],
   "source": [
    "subset = df[df.actual == \"cat\"]"
   ]
  },
  {
   "cell_type": "code",
   "execution_count": 211,
   "id": "47ad925f",
   "metadata": {},
   "outputs": [
    {
     "data": {
      "text/plain": [
       "0.8150057273768614"
      ]
     },
     "execution_count": 211,
     "metadata": {},
     "output_type": "execute_result"
    }
   ],
   "source": [
    "NVP_accuracy = (subset.actual == subset.model1).mean()\n",
    "NVP_accuracy"
   ]
  },
  {
   "cell_type": "code",
   "execution_count": 212,
   "id": "97386071",
   "metadata": {},
   "outputs": [
    {
     "data": {
      "text/plain": [
       "0.8906071019473081"
      ]
     },
     "execution_count": 212,
     "metadata": {},
     "output_type": "execute_result"
    }
   ],
   "source": [
    "NVP_accuracy = (subset.actual == subset.model2).mean()\n",
    "NVP_accuracy"
   ]
  },
  {
   "cell_type": "code",
   "execution_count": 213,
   "id": "f183af35",
   "metadata": {},
   "outputs": [
    {
     "data": {
      "text/plain": [
       "0.5114547537227949"
      ]
     },
     "execution_count": 213,
     "metadata": {},
     "output_type": "execute_result"
    }
   ],
   "source": [
    "NVP_accuracy = (subset.actual == subset.model3).mean()\n",
    "NVP_accuracy"
   ]
  },
  {
   "cell_type": "code",
   "execution_count": 214,
   "id": "480c44c1",
   "metadata": {},
   "outputs": [
    {
     "data": {
      "text/plain": [
       "0.34536082474226804"
      ]
     },
     "execution_count": 214,
     "metadata": {},
     "output_type": "execute_result"
    }
   ],
   "source": [
    "NVP_accuracy = (subset.actual == subset.model4).mean()\n",
    "NVP_accuracy"
   ]
  },
  {
   "cell_type": "markdown",
   "id": "c1049ba8",
   "metadata": {},
   "source": [
    "### PHASE 2"
   ]
  },
  {
   "cell_type": "code",
   "execution_count": 215,
   "id": "f644b6ea",
   "metadata": {},
   "outputs": [],
   "source": [
    "subset = df[df.model2 == \"cat\"]"
   ]
  },
  {
   "cell_type": "code",
   "execution_count": 216,
   "id": "c28a82b6",
   "metadata": {},
   "outputs": [
    {
     "data": {
      "text/plain": [
       "0.49034869240348694"
      ]
     },
     "execution_count": 216,
     "metadata": {},
     "output_type": "execute_result"
    }
   ],
   "source": [
    "NVP_accuracy = (subset.model2 == subset.model1).mean()\n",
    "NVP_accuracy"
   ]
  },
  {
   "cell_type": "code",
   "execution_count": 217,
   "id": "158830b7",
   "metadata": {},
   "outputs": [
    {
     "data": {
      "text/plain": [
       "0.5071606475716065"
      ]
     },
     "execution_count": 217,
     "metadata": {},
     "output_type": "execute_result"
    }
   ],
   "source": [
    "NVP_accuracy = (subset.model2 == subset.model3).mean()\n",
    "NVP_accuracy"
   ]
  },
  {
   "cell_type": "code",
   "execution_count": 218,
   "id": "2364ff7d",
   "metadata": {},
   "outputs": [
    {
     "data": {
      "text/plain": [
       "0.19115815691158156"
      ]
     },
     "execution_count": 218,
     "metadata": {},
     "output_type": "execute_result"
    }
   ],
   "source": [
    "NVP_accuracy = (subset.model2 == subset.model4).mean()\n",
    "NVP_accuracy"
   ]
  },
  {
   "cell_type": "code",
   "execution_count": 219,
   "id": "0d78e2e4",
   "metadata": {},
   "outputs": [],
   "source": [
    "# the best model for phase two is model 3,\n",
    "#of the 89% accuracy in the first model the second model works with a 50% accuracy on that 11%"
   ]
  },
  {
   "cell_type": "markdown",
   "id": "2a8ef85f",
   "metadata": {},
   "source": [
    "### Follow the links below to read the documentation about each function, then apply those functions to the data from the previous problem."
   ]
  },
  {
   "cell_type": "code",
   "execution_count": 220,
   "id": "0e3561bc",
   "metadata": {},
   "outputs": [
    {
     "data": {
      "text/plain": [
       "0.8074"
      ]
     },
     "execution_count": 220,
     "metadata": {},
     "output_type": "execute_result"
    }
   ],
   "source": [
    "accuracy_score(df.actual,df.model1)"
   ]
  },
  {
   "cell_type": "code",
   "execution_count": 221,
   "id": "ffcbda08",
   "metadata": {},
   "outputs": [
    {
     "data": {
      "text/plain": [
       "0.6304"
      ]
     },
     "execution_count": 221,
     "metadata": {},
     "output_type": "execute_result"
    }
   ],
   "source": [
    "accuracy_score(df.actual,df.model2)"
   ]
  },
  {
   "cell_type": "code",
   "execution_count": 222,
   "id": "4421e550",
   "metadata": {},
   "outputs": [
    {
     "data": {
      "text/plain": [
       "0.5096"
      ]
     },
     "execution_count": 222,
     "metadata": {},
     "output_type": "execute_result"
    }
   ],
   "source": [
    "accuracy_score(df.actual,df.model3)"
   ]
  },
  {
   "cell_type": "code",
   "execution_count": 223,
   "id": "d862adc1",
   "metadata": {},
   "outputs": [
    {
     "data": {
      "text/plain": [
       "0.7426"
      ]
     },
     "execution_count": 223,
     "metadata": {},
     "output_type": "execute_result"
    }
   ],
   "source": [
    "accuracy_score(df.actual,df.model4)"
   ]
  },
  {
   "cell_type": "code",
   "execution_count": 224,
   "id": "9bc36077",
   "metadata": {},
   "outputs": [
    {
     "data": {
      "text/plain": [
       "0.6508"
      ]
     },
     "execution_count": 224,
     "metadata": {},
     "output_type": "execute_result"
    }
   ],
   "source": [
    "accuracy_score(df.actual,df.baseline)"
   ]
  },
  {
   "cell_type": "code",
   "execution_count": 226,
   "id": "4ddce32b",
   "metadata": {},
   "outputs": [
    {
     "data": {
      "text/plain": [
       "0.6897721764420747"
      ]
     },
     "execution_count": 226,
     "metadata": {},
     "output_type": "execute_result"
    }
   ],
   "source": [
    "precision_score(df.actual,df.model1, pos_label = \"cat\")"
   ]
  },
  {
   "cell_type": "code",
   "execution_count": 227,
   "id": "35aee75f",
   "metadata": {},
   "outputs": [
    {
     "data": {
      "text/plain": [
       "0.4841220423412204"
      ]
     },
     "execution_count": 227,
     "metadata": {},
     "output_type": "execute_result"
    }
   ],
   "source": [
    "precision_score(df.actual,df.model2, pos_label = \"cat\")"
   ]
  },
  {
   "cell_type": "code",
   "execution_count": 228,
   "id": "92f3cdc7",
   "metadata": {},
   "outputs": [
    {
     "data": {
      "text/plain": [
       "0.358346709470305"
      ]
     },
     "execution_count": 228,
     "metadata": {},
     "output_type": "execute_result"
    }
   ],
   "source": [
    "precision_score(df.actual,df.model3, pos_label = \"cat\")"
   ]
  },
  {
   "cell_type": "code",
   "execution_count": 229,
   "id": "610483a2",
   "metadata": {},
   "outputs": [
    {
     "data": {
      "text/plain": [
       "0.8072289156626506"
      ]
     },
     "execution_count": 229,
     "metadata": {},
     "output_type": "execute_result"
    }
   ],
   "source": [
    "precision_score(df.actual,df.model4, pos_label = \"cat\")"
   ]
  },
  {
   "cell_type": "code",
   "execution_count": 230,
   "id": "e68cf03d",
   "metadata": {},
   "outputs": [
    {
     "data": {
      "text/plain": [
       "0.0"
      ]
     },
     "execution_count": 230,
     "metadata": {},
     "output_type": "execute_result"
    }
   ],
   "source": [
    "precision_score(df.actual,df.baseline, pos_label = \"cat\")"
   ]
  },
  {
   "cell_type": "code",
   "execution_count": 237,
   "id": "b3f86a6f",
   "metadata": {},
   "outputs": [
    {
     "data": {
      "text/plain": [
       "'              precision    recall  f1-score   support\\n\\n         cat       0.69      0.82      0.75      1746\\n         dog       0.89      0.80      0.84      3254\\n\\n    accuracy                           0.81      5000\\n   macro avg       0.79      0.81      0.80      5000\\nweighted avg       0.82      0.81      0.81      5000\\n'"
      ]
     },
     "execution_count": 237,
     "metadata": {},
     "output_type": "execute_result"
    }
   ],
   "source": [
    "classification_report(df.actual,df.model1)"
   ]
  },
  {
   "cell_type": "code",
   "execution_count": 238,
   "id": "d745486a",
   "metadata": {},
   "outputs": [
    {
     "data": {
      "text/plain": [
       "'              precision    recall  f1-score   support\\n\\n         cat       0.48      0.89      0.63      1746\\n         dog       0.89      0.49      0.63      3254\\n\\n    accuracy                           0.63      5000\\n   macro avg       0.69      0.69      0.63      5000\\nweighted avg       0.75      0.63      0.63      5000\\n'"
      ]
     },
     "execution_count": 238,
     "metadata": {},
     "output_type": "execute_result"
    }
   ],
   "source": [
    "classification_report(df.actual,df.model2)"
   ]
  },
  {
   "cell_type": "code",
   "execution_count": 239,
   "id": "ad19fe42",
   "metadata": {},
   "outputs": [
    {
     "data": {
      "text/plain": [
       "'              precision    recall  f1-score   support\\n\\n         cat       0.36      0.51      0.42      1746\\n         dog       0.66      0.51      0.57      3254\\n\\n    accuracy                           0.51      5000\\n   macro avg       0.51      0.51      0.50      5000\\nweighted avg       0.55      0.51      0.52      5000\\n'"
      ]
     },
     "execution_count": 239,
     "metadata": {},
     "output_type": "execute_result"
    }
   ],
   "source": [
    "classification_report(df.actual,df.model3)"
   ]
  },
  {
   "cell_type": "code",
   "execution_count": 240,
   "id": "4e5a0d85",
   "metadata": {},
   "outputs": [
    {
     "data": {
      "text/plain": [
       "'              precision    recall  f1-score   support\\n\\n         cat       0.81      0.35      0.48      1746\\n         dog       0.73      0.96      0.83      3254\\n\\n    accuracy                           0.74      5000\\n   macro avg       0.77      0.65      0.66      5000\\nweighted avg       0.76      0.74      0.71      5000\\n'"
      ]
     },
     "execution_count": 240,
     "metadata": {},
     "output_type": "execute_result"
    }
   ],
   "source": [
    "classification_report(df.actual,df.model4)"
   ]
  },
  {
   "cell_type": "code",
   "execution_count": 241,
   "id": "33d962f2",
   "metadata": {},
   "outputs": [
    {
     "data": {
      "text/plain": [
       "'              precision    recall  f1-score   support\\n\\n         cat       0.00      0.00      0.00      1746\\n         dog       0.65      1.00      0.79      3254\\n\\n    accuracy                           0.65      5000\\n   macro avg       0.33      0.50      0.39      5000\\nweighted avg       0.42      0.65      0.51      5000\\n'"
      ]
     },
     "execution_count": 241,
     "metadata": {},
     "output_type": "execute_result"
    }
   ],
   "source": [
    "classification_report(df.actual,df.baseline)"
   ]
  },
  {
   "cell_type": "code",
   "execution_count": 242,
   "id": "184b1237",
   "metadata": {},
   "outputs": [
    {
     "data": {
      "text/plain": [
       "'              precision    recall  f1-score   support\\n\\n      Defect       0.80      0.50      0.62        16\\n   No Defect       0.96      0.99      0.97       184\\n\\n    accuracy                           0.95       200\\n   macro avg       0.88      0.74      0.79       200\\nweighted avg       0.95      0.95      0.94       200\\n'"
      ]
     },
     "execution_count": 242,
     "metadata": {},
     "output_type": "execute_result"
    }
   ],
   "source": [
    "classification_report(df_duck.actual,df_duck.model1)"
   ]
  },
  {
   "cell_type": "code",
   "execution_count": 243,
   "id": "fb6fc219",
   "metadata": {},
   "outputs": [
    {
     "data": {
      "text/plain": [
       "'              precision    recall  f1-score   support\\n\\n      Defect       0.10      0.56      0.17        16\\n   No Defect       0.94      0.56      0.70       184\\n\\n    accuracy                           0.56       200\\n   macro avg       0.52      0.56      0.44       200\\nweighted avg       0.87      0.56      0.66       200\\n'"
      ]
     },
     "execution_count": 243,
     "metadata": {},
     "output_type": "execute_result"
    }
   ],
   "source": [
    "classification_report(df_duck.actual,df_duck.model2)"
   ]
  },
  {
   "cell_type": "code",
   "execution_count": 244,
   "id": "bd2670f1",
   "metadata": {},
   "outputs": [
    {
     "data": {
      "text/plain": [
       "'              precision    recall  f1-score   support\\n\\n      Defect       0.13      0.81      0.23        16\\n   No Defect       0.97      0.53      0.69       184\\n\\n    accuracy                           0.56       200\\n   macro avg       0.55      0.67      0.46       200\\nweighted avg       0.90      0.56      0.65       200\\n'"
      ]
     },
     "execution_count": 244,
     "metadata": {},
     "output_type": "execute_result"
    }
   ],
   "source": [
    "classification_report(df_duck.actual,df_duck.model3)"
   ]
  },
  {
   "cell_type": "code",
   "execution_count": 249,
   "id": "d10bfb2e",
   "metadata": {},
   "outputs": [
    {
     "data": {
      "text/plain": [
       "'              precision    recall  f1-score   support\\n\\n      Defect       0.00      0.00      0.00        16\\n   No Defect       0.92      1.00      0.96       184\\n\\n    accuracy                           0.92       200\\n   macro avg       0.46      0.50      0.48       200\\nweighted avg       0.85      0.92      0.88       200\\n'"
      ]
     },
     "execution_count": 249,
     "metadata": {},
     "output_type": "execute_result"
    }
   ],
   "source": [
    "classification_report(df_duck.actual,df_duck.baseline)"
   ]
  },
  {
   "cell_type": "code",
   "execution_count": null,
   "id": "540dc829",
   "metadata": {},
   "outputs": [],
   "source": []
  }
 ],
 "metadata": {
  "kernelspec": {
   "display_name": "Python 3",
   "language": "python",
   "name": "python3"
  },
  "language_info": {
   "codemirror_mode": {
    "name": "ipython",
    "version": 3
   },
   "file_extension": ".py",
   "mimetype": "text/x-python",
   "name": "python",
   "nbconvert_exporter": "python",
   "pygments_lexer": "ipython3",
   "version": "3.8.8"
  }
 },
 "nbformat": 4,
 "nbformat_minor": 5
}
